{
 "metadata": {
  "language_info": {
   "codemirror_mode": {
    "name": "ipython",
    "version": 3
   },
   "file_extension": ".py",
   "mimetype": "text/x-python",
   "name": "python",
   "nbconvert_exporter": "python",
   "pygments_lexer": "ipython3",
   "version": "3.8.0"
  },
  "orig_nbformat": 2,
  "kernelspec": {
   "name": "python380jvsc74a57bd04f75b84864a2707f8754bc57a6bb9ec0fa0a7cb62f62b11682355a8c27fee9da",
   "display_name": "Python 3.8.0 64-bit"
  },
  "interpreter": {
   "hash": "8aba9d492c0a4bef6a645f552c7b10b957d4aabb43f48e824b5c35f92cd434de"
  }
 },
 "nbformat": 4,
 "nbformat_minor": 2,
 "cells": [
  {
   "cell_type": "code",
   "execution_count": 19,
   "metadata": {},
   "outputs": [
    {
     "output_type": "stream",
     "name": "stdout",
     "text": [
      "curernt dir: c:\\Users\\takadamalab\\git\\sleep_study\n"
     ]
    }
   ],
   "source": [
    "from pre_process.load_sleep_data import LoadSleepData\n",
    "from pre_process.pre_process import PreProcess\n",
    "import numpy as np\n",
    "import sys, os\n",
    "import matplotlib.pyplot as plt\n",
    "from sklearn import datasets\n",
    "from sklearn.decomposition import PCA\n",
    "import sys\n",
    "from sklearn.manifold import TSNE\n",
    "from collections import Counter\n",
    "import tensorflow as tf\n",
    "from tensorboard.plugins import projector\n",
    "from nn.losses import EDLLoss\n",
    "print(f\"curernt dir: {os.getcwd()}\")"
   ]
  },
  {
   "cell_type": "code",
   "execution_count": 20,
   "metadata": {},
   "outputs": [],
   "source": [
    "tf.keras.backend.set_floatx(\"float32\")\n",
    "physical_devices = tf.config.list_physical_devices(\"GPU\")\n",
    "tf.config.experimental.set_memory_growth(physical_devices[0], True)"
   ]
  },
  {
   "cell_type": "code",
   "execution_count": 21,
   "metadata": {},
   "outputs": [
    {
     "output_type": "stream",
     "name": "stdout",
     "text": [
      "*** すべての被験者を読み込みます（load_dataの引数:nameは無視します） ***\n",
      "C:\\Users\\takadamalab\\sleep_study\\datas\\pre_processed_data\\H_Li_20210320-011750.savを読み込んでいます...\n",
      "C:\\Users\\takadamalab\\sleep_study\\datas\\pre_processed_data\\H_Murakami_20210320-011750.savを読み込んでいます...\n",
      "C:\\Users\\takadamalab\\sleep_study\\datas\\pre_processed_data\\H_Yamamoto_20210320-011750.savを読み込んでいます...\n",
      "C:\\Users\\takadamalab\\sleep_study\\datas\\pre_processed_data\\H_Kumazawa_20210320-011750.savを読み込んでいます...\n",
      "C:\\Users\\takadamalab\\sleep_study\\datas\\pre_processed_data\\H_Hayashi_20210320-011750.savを読み込んでいます...\n",
      "C:\\Users\\takadamalab\\sleep_study\\datas\\pre_processed_data\\H_Kumazawa_F_20210320-011750.savを読み込んでいます...\n",
      "C:\\Users\\takadamalab\\sleep_study\\datas\\pre_processed_data\\H_Takadama_20210320-011750.savを読み込んでいます...\n",
      "C:\\Users\\takadamalab\\sleep_study\\datas\\pre_processed_data\\H_Hiromoto_20210320-011750.savを読み込んでいます...\n",
      "C:\\Users\\takadamalab\\sleep_study\\datas\\pre_processed_data\\H_Kashiwazaki_20210320-011750.savを読み込んでいます...\n",
      "訓練データのサイズを揃えます\n",
      "訓練データの各睡眠段階（補正前） Counter({2: 107040, 4: 37860, 5: 16194, 3: 12780, 1: 5760})\n",
      "訓練データの各睡眠段階（補正後） {1: 1000, 2: 1000, 3: 1000, 4: 1000, 5: 1000}\n",
      "- max正規化を行います\n",
      "- noneの処理を行います\n",
      "- チャンネル方向に軸を追加します\n",
      "*** 全ての前処理後（one-hotを除く）の訓練データセット（確認用） *** \n",
      " Counter({0: 1000, 1: 1000, 2: 1000, 3: 1000, 4: 1000})\n"
     ]
    }
   ],
   "source": [
    "load_sleep_data = LoadSleepData(data_type=\"spectrum\")\n",
    "pre_process = PreProcess(load_sleep_data)\n",
    "datas = load_sleep_data.load_data(load_all=True)\n",
    "(train, test) = pre_process.split_train_test_from_records(datas,\n",
    "                                                          test_id=0,\n",
    "                                                          pse_data=False)\n",
    "(x_train, y_train), (x_test, y_test) = pre_process.make_dataset(train=train, \n",
    "                                                      test=test,\n",
    "                                                      is_storchastic=False,\n",
    "                                                      to_one_hot_vector=False,\n",
    "                                                      pse_data=False,\n",
    "                                                      is_shuffle=False)"
   ]
  },
  {
   "cell_type": "code",
   "execution_count": 22,
   "metadata": {},
   "outputs": [
    {
     "output_type": "execute_result",
     "data": {
      "text/plain": [
       "(5000, 512, 1)"
      ]
     },
     "metadata": {},
     "execution_count": 22
    }
   ],
   "source": [
    "x_train.shape"
   ]
  },
  {
   "cell_type": "code",
   "execution_count": 23,
   "metadata": {},
   "outputs": [],
   "source": [
    "# モデルを25次元の空間に出力\n",
    "date_id = \"20210608-144244\"\n",
    "path = os.path.join(os.environ[\"sleep\"], \"models\", \"H_Li\", date_id)\n",
    "model = tf.keras.models.load_model(path, custom_objects={\"EDLLoss\":EDLLoss(K=5,annealing=0.1)})"
   ]
  },
  {
   "cell_type": "code",
   "execution_count": 24,
   "metadata": {},
   "outputs": [],
   "source": [
    "hidden_layer_id = -1\n",
    "new_model = tf.keras.Model(inputs=model.input, outputs=model.layers[hidden_layer_id].output)\n",
    "# new_model.summary()\n",
    "# new_model.compile()\n",
    "result = new_model.predict(x_test, batch_size=32)"
   ]
  },
  {
   "cell_type": "code",
   "execution_count": 25,
   "metadata": {},
   "outputs": [],
   "source": [
    "# log先の設定\n",
    "log_dir = os.path.join(os.environ[\"sleep\"], \"logs\", \"H_Li\", \"spectrum\", f\"layer_{hidden_layer_id}\", \"test\")\n",
    "if not os.path.exists(log_dir):\n",
    "    os.makedirs(log_dir)\n",
    "# ラベルの保存\n",
    "label_path = os.path.join(log_dir, \"metadata.tsv\")\n",
    "with open(label_path, \"w\") as f:\n",
    "    f.write(\"index\\tlabel\\n\")\n",
    "    for index, label in enumerate(y_test):\n",
    "        f.write(f\"{index}\\t{str(label)}\\n\")"
   ]
  },
  {
   "cell_type": "code",
   "execution_count": 26,
   "metadata": {},
   "outputs": [
    {
     "output_type": "execute_result",
     "data": {
      "text/plain": [
       "'C:\\\\Users\\\\takadamalab\\\\sleep_study\\\\logs\\\\H_Li\\\\spectrum\\\\layer_-1\\\\test\\\\embedding.ckpt-1'"
      ]
     },
     "metadata": {},
     "execution_count": 26
    }
   ],
   "source": [
    "# チェックポイント作成の続き（上のpredictの計算が長いので，セルを分ける）\n",
    "embedding_var = tf.Variable(result, name=\"dense\")\n",
    "check_point_file = os.path.join(log_dir, \"embedding.ckpt\")\n",
    "ckpt = tf.train.Checkpoint(embedding=embedding_var)\n",
    "ckpt.save(check_point_file)"
   ]
  },
  {
   "cell_type": "code",
   "execution_count": 27,
   "metadata": {},
   "outputs": [],
   "source": [
    "# projectorの設定\n",
    "config = projector.ProjectorConfig()\n",
    "embedding = config.embeddings.add()\n",
    "embedding.tensor_name = \"embedding/.ATTRIBUTES/VARIABLE_VALUE\"\n",
    "embedding.metadata_path = \"metadata.tsv\"\n",
    "projector.visualize_embeddings(log_dir, config)"
   ]
  },
  {
   "cell_type": "code",
   "execution_count": null,
   "metadata": {},
   "outputs": [],
   "source": []
  }
 ]
}
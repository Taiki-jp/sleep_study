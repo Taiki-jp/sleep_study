{
 "cells": [
  {
   "cell_type": "code",
   "execution_count": 1,
   "metadata": {},
   "outputs": [],
   "source": [
    "import os\n",
    "from glob import glob\n",
    "from data_analysis.utils import Mine"
   ]
  },
  {
   "cell_type": "code",
   "execution_count": 2,
   "metadata": {},
   "outputs": [],
   "source": [
    "input_dir = r\"E:\\takadamalab\\sleep_study\\logs\\ouput_metrics_from_ss\"\n",
    "filelist = glob(os.path.join(input_dir, \"*\"))"
   ]
  },
  {
   "cell_type": "code",
   "execution_count": 31,
   "metadata": {},
   "outputs": [],
   "source": [
    "# ファイルの読み込みと被験者名の紐づけ\n",
    "import pandas as pd\n",
    "df_d = {}\n",
    "for file in filelist:\n",
    "    name = os.path.split(file)[1].split(\".\")[0]\n",
    "    tmp_d = {name: pd.read_csv(file, index_col=0)}\n",
    "    df_d.update(tmp_d)"
   ]
  },
  {
   "cell_type": "code",
   "execution_count": 32,
   "metadata": {},
   "outputs": [],
   "source": [
    "# metrics 3 type: precision, recall, f-m\n",
    "metrics = (\"precision\", \"recall\", \"f1-score\")\n",
    "# methods 7 type: cnn_attn, cnn_no_attn, aecnn, ecnn, ccnn, eenn, denn\n",
    "methods = (\"cnn_attn\", \"cnn_no_attn\", \"aecnn\", \"ecnn\", \"ccnn\", \"eenn\", \"denn\")\n",
    "# sleep stage 5 type: nr34, nr2, nr1, rem, wake\n",
    "ss_acc = (\"nr34\", \"nr2\", \"nr1\", \"rem\", \"wake\", \"accuracy\")\n",
    "metrics_method_key = [i+\"_\"+j for i in metrics for j in methods]"
   ]
  },
  {
   "cell_type": "code",
   "execution_count": 33,
   "metadata": {},
   "outputs": [
    {
     "data": {
      "text/plain": [
       "0.0"
      ]
     },
     "execution_count": 33,
     "metadata": {},
     "output_type": "execute_result"
    }
   ],
   "source": [
    "# H_Liで実験\n",
    "# df_d[\"140703_Li\"].loc[\"precision_cnn_attn\", \"nr34\"]\n",
    "df_d[\"140703_Li\"].loc[\"precision_cnn_attn\", \"nr34\"]"
   ]
  },
  {
   "cell_type": "code",
   "execution_count": 34,
   "metadata": {},
   "outputs": [
    {
     "data": {
      "text/plain": [
       "Index(['precision_cnn_attn', 'recall_cnn_attn', 'f1-score_cnn_attn',\n",
       "       'support_cnn_attn', 'precision_cnn_no_attn', 'recall_cnn_no_attn',\n",
       "       'f1-score_cnn_no_attn', 'support_cnn_no_attn', 'precision_enn',\n",
       "       'recall_enn', 'f1-score_enn', 'support_enn', 'precision_aecnn',\n",
       "       'recall_aecnn', 'f1-score_aecnn', 'support_aecnn', 'precision_ecnn',\n",
       "       'recall_ecnn', 'f1-score_ecnn', 'support_ecnn', 'precision_ccnn',\n",
       "       'recall_ccnn', 'f1-score_ccnn', 'support_ccnn', 'precision_eenn',\n",
       "       'recall_eenn', 'f1-score_eenn', 'support_eenn', 'precision_denn',\n",
       "       'recall_denn', 'f1-score_denn', 'support_denn'],\n",
       "      dtype='object')"
      ]
     },
     "execution_count": 34,
     "metadata": {},
     "output_type": "execute_result"
    }
   ],
   "source": [
    "df_d[\"140703_Li\"].index"
   ]
  },
  {
   "cell_type": "code",
   "execution_count": 40,
   "metadata": {},
   "outputs": [
    {
     "data": {
      "text/plain": [
       "{'precision_cnn_attn_nr34': [],\n",
       " 'precision_cnn_attn_nr2': [],\n",
       " 'precision_cnn_attn_nr1': [],\n",
       " 'precision_cnn_attn_rem': [],\n",
       " 'precision_cnn_attn_wake': [],\n",
       " 'precision_cnn_attn_accuracy': [],\n",
       " 'precision_cnn_no_attn_nr34': [],\n",
       " 'precision_cnn_no_attn_nr2': [],\n",
       " 'precision_cnn_no_attn_nr1': [],\n",
       " 'precision_cnn_no_attn_rem': [],\n",
       " 'precision_cnn_no_attn_wake': [],\n",
       " 'precision_cnn_no_attn_accuracy': [],\n",
       " 'precision_aecnn_nr34': [],\n",
       " 'precision_aecnn_nr2': [],\n",
       " 'precision_aecnn_nr1': [],\n",
       " 'precision_aecnn_rem': [],\n",
       " 'precision_aecnn_wake': [],\n",
       " 'precision_aecnn_accuracy': [],\n",
       " 'precision_ecnn_nr34': [],\n",
       " 'precision_ecnn_nr2': [],\n",
       " 'precision_ecnn_nr1': [],\n",
       " 'precision_ecnn_rem': [],\n",
       " 'precision_ecnn_wake': [],\n",
       " 'precision_ecnn_accuracy': [],\n",
       " 'precision_ccnn_nr34': [],\n",
       " 'precision_ccnn_nr2': [],\n",
       " 'precision_ccnn_nr1': [],\n",
       " 'precision_ccnn_rem': [],\n",
       " 'precision_ccnn_wake': [],\n",
       " 'precision_ccnn_accuracy': [],\n",
       " 'precision_eenn_nr34': [],\n",
       " 'precision_eenn_nr2': [],\n",
       " 'precision_eenn_nr1': [],\n",
       " 'precision_eenn_rem': [],\n",
       " 'precision_eenn_wake': [],\n",
       " 'precision_eenn_accuracy': [],\n",
       " 'precision_denn_nr34': [],\n",
       " 'precision_denn_nr2': [],\n",
       " 'precision_denn_nr1': [],\n",
       " 'precision_denn_rem': [],\n",
       " 'precision_denn_wake': [],\n",
       " 'precision_denn_accuracy': [],\n",
       " 'recall_cnn_attn_nr34': [],\n",
       " 'recall_cnn_attn_nr2': [],\n",
       " 'recall_cnn_attn_nr1': [],\n",
       " 'recall_cnn_attn_rem': [],\n",
       " 'recall_cnn_attn_wake': [],\n",
       " 'recall_cnn_attn_accuracy': [],\n",
       " 'recall_cnn_no_attn_nr34': [],\n",
       " 'recall_cnn_no_attn_nr2': [],\n",
       " 'recall_cnn_no_attn_nr1': [],\n",
       " 'recall_cnn_no_attn_rem': [],\n",
       " 'recall_cnn_no_attn_wake': [],\n",
       " 'recall_cnn_no_attn_accuracy': [],\n",
       " 'recall_aecnn_nr34': [],\n",
       " 'recall_aecnn_nr2': [],\n",
       " 'recall_aecnn_nr1': [],\n",
       " 'recall_aecnn_rem': [],\n",
       " 'recall_aecnn_wake': [],\n",
       " 'recall_aecnn_accuracy': [],\n",
       " 'recall_ecnn_nr34': [],\n",
       " 'recall_ecnn_nr2': [],\n",
       " 'recall_ecnn_nr1': [],\n",
       " 'recall_ecnn_rem': [],\n",
       " 'recall_ecnn_wake': [],\n",
       " 'recall_ecnn_accuracy': [],\n",
       " 'recall_ccnn_nr34': [],\n",
       " 'recall_ccnn_nr2': [],\n",
       " 'recall_ccnn_nr1': [],\n",
       " 'recall_ccnn_rem': [],\n",
       " 'recall_ccnn_wake': [],\n",
       " 'recall_ccnn_accuracy': [],\n",
       " 'recall_eenn_nr34': [],\n",
       " 'recall_eenn_nr2': [],\n",
       " 'recall_eenn_nr1': [],\n",
       " 'recall_eenn_rem': [],\n",
       " 'recall_eenn_wake': [],\n",
       " 'recall_eenn_accuracy': [],\n",
       " 'recall_denn_nr34': [],\n",
       " 'recall_denn_nr2': [],\n",
       " 'recall_denn_nr1': [],\n",
       " 'recall_denn_rem': [],\n",
       " 'recall_denn_wake': [],\n",
       " 'recall_denn_accuracy': [],\n",
       " 'f1-score_cnn_attn_nr34': [],\n",
       " 'f1-score_cnn_attn_nr2': [],\n",
       " 'f1-score_cnn_attn_nr1': [],\n",
       " 'f1-score_cnn_attn_rem': [],\n",
       " 'f1-score_cnn_attn_wake': [],\n",
       " 'f1-score_cnn_attn_accuracy': [],\n",
       " 'f1-score_cnn_no_attn_nr34': [],\n",
       " 'f1-score_cnn_no_attn_nr2': [],\n",
       " 'f1-score_cnn_no_attn_nr1': [],\n",
       " 'f1-score_cnn_no_attn_rem': [],\n",
       " 'f1-score_cnn_no_attn_wake': [],\n",
       " 'f1-score_cnn_no_attn_accuracy': [],\n",
       " 'f1-score_aecnn_nr34': [],\n",
       " 'f1-score_aecnn_nr2': [],\n",
       " 'f1-score_aecnn_nr1': [],\n",
       " 'f1-score_aecnn_rem': [],\n",
       " 'f1-score_aecnn_wake': [],\n",
       " 'f1-score_aecnn_accuracy': [],\n",
       " 'f1-score_ecnn_nr34': [],\n",
       " 'f1-score_ecnn_nr2': [],\n",
       " 'f1-score_ecnn_nr1': [],\n",
       " 'f1-score_ecnn_rem': [],\n",
       " 'f1-score_ecnn_wake': [],\n",
       " 'f1-score_ecnn_accuracy': [],\n",
       " 'f1-score_ccnn_nr34': [],\n",
       " 'f1-score_ccnn_nr2': [],\n",
       " 'f1-score_ccnn_nr1': [],\n",
       " 'f1-score_ccnn_rem': [],\n",
       " 'f1-score_ccnn_wake': [],\n",
       " 'f1-score_ccnn_accuracy': [],\n",
       " 'f1-score_eenn_nr34': [],\n",
       " 'f1-score_eenn_nr2': [],\n",
       " 'f1-score_eenn_nr1': [],\n",
       " 'f1-score_eenn_rem': [],\n",
       " 'f1-score_eenn_wake': [],\n",
       " 'f1-score_eenn_accuracy': [],\n",
       " 'f1-score_denn_nr34': [],\n",
       " 'f1-score_denn_nr2': [],\n",
       " 'f1-score_denn_nr1': [],\n",
       " 'f1-score_denn_rem': [],\n",
       " 'f1-score_denn_wake': [],\n",
       " 'f1-score_denn_accuracy': []}"
      ]
     },
     "execution_count": 40,
     "metadata": {},
     "output_type": "execute_result"
    }
   ],
   "source": [
    "# output_d = {__name+\"_\"+__rowname+\"_\"+__colname for __name in df_d.keys() for __rowname in metrics_method_key for __colname in ss_acc}\n",
    "output_d = {__rowname+\"_\"+__colname: [] for __rowname in metrics_method_key for __colname in ss_acc}\n",
    "output_d"
   ]
  },
  {
   "cell_type": "code",
   "execution_count": 45,
   "metadata": {},
   "outputs": [],
   "source": [
    "\n",
    "for __name in df_d.keys():\n",
    "    for __rowname in metrics_method_key:\n",
    "        for __colname in ss_acc:\n",
    "            # try:\n",
    "            output_d[__rowname+\"_\"+__colname].append(df_d[__name].loc[__rowname, __colname])\n",
    "            # except AssertionError as AE:\n",
    "            #     print(__name)\n",
    "            #     print(AE)\n"
   ]
  },
  {
   "cell_type": "code",
   "execution_count": 47,
   "metadata": {},
   "outputs": [],
   "source": [
    "output_df = pd.DataFrame.from_dict(output_d)"
   ]
  },
  {
   "cell_type": "code",
   "execution_count": 48,
   "metadata": {},
   "outputs": [],
   "source": [
    "output_path = os.path.join(os.environ[\"sleep\"], \"tmp\", \"metrics.csv\")\n",
    "output_df.to_csv(output_path)"
   ]
  },
  {
   "cell_type": "markdown",
   "metadata": {},
   "source": [
    "# 一致率のグラフ作成"
   ]
  },
  {
   "cell_type": "code",
   "execution_count": 135,
   "metadata": {},
   "outputs": [
    {
     "data": {
      "image/png": "[encoded data removed]",
      "text/plain": [
       "<Figure size 864x432 with 1 Axes>"
      ]
     },
     "metadata": {},
     "output_type": "display_data"
    }
   ],
   "source": [
    "columns_bool = output_df.columns.str.contains(\"accuracy\")\n",
    "columns_bool\n",
    "acc_df = output_df.loc[:, columns_bool]\n",
    "# 最初の7子以外は繰り返しなので無視する\n",
    "acc_df = acc_df.iloc[:, :7]\n",
    "acc_df = pd.melt(acc_df, var_name = \"methods\", value_name=\"accuracy\")\n",
    "renamed_method = acc_df.apply(lambda s: \"_\".join(s[\"methods\"].split(\"_\")[1:3]), axis=1)\n",
    "acc_df = pd.concat([acc_df, renamed_method], axis=1)\n",
    "acc_df = acc_df.rename(columns={0:\"method\"})\n",
    "# acc_df.mean()\n",
    "%matplotlib inline\n",
    "import seaborn as sns\n",
    "import matplotlib.pyplot as plt\n",
    "sns.set_theme(style=\"whitegrid\")\n",
    "fig, ax = plt.subplots(figsize=(12, 6))\n",
    "# sns.catplot(x=\"method\", y=\"accuracy\", data=acc_df, kind=\"boxen\")\n",
    "# sns.catplot(x=\"method\", y=\"accuracy\", data=acc_df, kind=\"violin\")\n",
    "sns.boxplot(x=\"method\", y=\"accuracy\", data=acc_df)\n",
    "# sns.boxplot(x=\"method\", y=\"accuracy\", data=acc_df, hue=\"method\")\n",
    "sns.swarmplot(x=\"method\", y=\"accuracy\", data=acc_df, color=\".25\")\n",
    "plt.savefig(\"tmp.png\")\n",
    "plt.show()"
   ]
  },
  {
   "cell_type": "markdown",
   "metadata": {},
   "source": [
    "## ファイル名変更操作（階層を変えながら）"
   ]
  },
  {
   "cell_type": "code",
   "execution_count": 16,
   "metadata": {},
   "outputs": [],
   "source": [
    "import os\n",
    "import sys\n",
    "from glob import glob\n",
    "import pandas as pd\n",
    "import shutil"
   ]
  },
  {
   "cell_type": "code",
   "execution_count": 40,
   "metadata": {},
   "outputs": [],
   "source": [
    "input_dir = os.path.join(os.environ[\"sleep\"], \"logs\", \"cnn_noattn_5stage\", \"*\")"
   ]
  },
  {
   "cell_type": "code",
   "execution_count": 41,
   "metadata": {},
   "outputs": [
    {
     "data": {
      "text/plain": [
       "54"
      ]
     },
     "execution_count": 41,
     "metadata": {},
     "output_type": "execute_result"
    }
   ],
   "source": [
    "# 対象ディレクトリの下には被験者名をファルダ名とするフォルダしか存在しないため、そのフォルダ名を被験者名としてリストに保存\n",
    "input_dir_list = glob(input_dir)\n",
    "name = [os.path.split(__input_dir_list)[1] for __input_dir_list in input_dir_list]\n",
    "name.__len__()\n",
    "# input_dir_list\n",
    "# input_dir_list"
   ]
  },
  {
   "cell_type": "code",
   "execution_count": 42,
   "metadata": {},
   "outputs": [
    {
     "data": {
      "text/plain": [
       "'E:\\\\takadamalab\\\\sleep_study\\\\logs\\\\cnn_noattn_5stage'"
      ]
     },
     "execution_count": 42,
     "metadata": {},
     "output_type": "execute_result"
    }
   ],
   "source": [
    "os.path.split(input_dir_list[0])[0]"
   ]
  },
  {
   "cell_type": "code",
   "execution_count": 43,
   "metadata": {},
   "outputs": [],
   "source": [
    "for __name, input_dir in zip(name, input_dir_list):\n",
    "    filepath = os.path.join(input_dir, \"ss_5class.csv\")\n",
    "    moved_dir = os.path.split(input_dir)[0]\n",
    "    moved_path = os.path.join(moved_dir, f\"{__name}.csv\")\n",
    "    # print(filepath)\n",
    "    # print(moved_path)\n",
    "    shutil.copy(filepath, moved_path)"
   ]
  },
  {
   "cell_type": "code",
   "execution_count": null,
   "metadata": {},
   "outputs": [],
   "source": []
  }
 ],
 "metadata": {
  "interpreter": {
   "hash": "d8e204fe8763a77f5984c80d9ff80af987f476adf04d6c5f64d6869487c70dc4"
  },
  "kernelspec": {
   "display_name": "Python 3.8.6 ('tensor_gpu_38')",
   "language": "python",
   "name": "python3"
  },
  "language_info": {
   "codemirror_mode": {
    "name": "ipython",
    "version": 3
   },
   "file_extension": ".py",
   "mimetype": "text/x-python",
   "name": "python",
   "nbconvert_exporter": "python",
   "pygments_lexer": "ipython3",
   "version": "3.8.6"
  },
  "orig_nbformat": 4
 },
 "nbformat": 4,
 "nbformat_minor": 2
}

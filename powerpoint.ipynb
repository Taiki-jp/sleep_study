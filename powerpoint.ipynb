{
 "cells": [
  {
   "cell_type": "code",
   "execution_count": 1,
   "metadata": {},
   "outputs": [],
   "source": [
    "import glob\n",
    "import os\n",
    "\n",
    "import pandas as pd\n",
    "from pptx import Presentation\n",
    "from pptx.util import Inches\n",
    "\n",
    "from data_analysis.utils import Utils"
   ]
  },
  {
   "cell_type": "code",
   "execution_count": 2,
   "metadata": {},
   "outputs": [],
   "source": [
    "utils = Utils(\n",
    "    is_normal=True,\n",
    "    is_previous=False,\n",
    "    data_type=\"spectrogram\",\n",
    "    fit_pos=\"middle\",\n",
    "    stride=\"middle\",\n",
    "    kernel_size=128,\n",
    "    model_type=\"enn\",\n",
    "    cleansing_type=\"noting\",\n",
    ")"
   ]
  },
  {
   "cell_type": "code",
   "execution_count": 3,
   "metadata": {},
   "outputs": [],
   "source": [
    "pptx_filepath = os.path.join(os.environ[\"git\"], \"sleep_study\", \"gallery\", \"blue_template.pptx\")\n",
    "ss_path = os.path.join(os.environ[\"git\"], \"sleep_study\", \"nidan_enn\", \"140703_Li\", \"ss.png\")\n",
    "cm_path = os.path.join(os.environ[\"git\"], \"sleep_study\", \"nidan_enn\", \"140703_Li\", \"cm.png\")\n",
    "metrics_path = os.path.join(os.environ[\"git\"], \"sleep_study\", \"nidan_enn\", \"140703_Li\", \"metrics.csv\")\n",
    "# img_path = os.path.join(os.environ[\"git\"], \"sleep_study\", \"gallery\", \"my_network.png\")\n",
    "prs = Presentation(pptx_filepath)"
   ]
  },
  {
   "cell_type": "code",
   "execution_count": 21,
   "metadata": {},
   "outputs": [],
   "source": [
    "# 0から始まる(0はタイトルスライド)\n",
    "title_slide_layout = prs.slide_layouts[8]\n",
    "slide = prs.slides.add_slide(title_slide_layout)\n",
    "# 睡眠段階を最初のプレースホルダに入れる\n",
    "placeholder_pict_ss = slide.placeholders[10]\n",
    "picture = placeholder_pict_ss.insert_picture(ss_path)\n",
    "picture.crop_top = 0\n",
    "picture.crop_left = 0\n",
    "picture.crop_bottom = 0\n",
    "picture.crop_right = 0\n",
    "# 混同行列を二個目のプレースホルダに入れる\n",
    "placeholder_pict_cm = slide.placeholders[11]\n",
    "picture = placeholder_pict_cm.insert_picture(cm_path)\n",
    "picture.crop_top = 0\n",
    "picture.crop_left = 0\n",
    "picture.crop_bottom = 0\n",
    "picture.crop_right = 0\n",
    "# 表を3個目のプレースホルダに入れる\n",
    "placeholder_table = slide.placeholders[12]\n",
    "graphic_frame = placeholder_table.insert_table(rows=6, cols=4)\n",
    "table = graphic_frame.table\n",
    "df = pd.read_csv(metrics_path)\n",
    "rec = df.iloc[0, 1:6]\n",
    "pre = df.iloc[1, 6:11]\n",
    "f_m = df.iloc[2, 11:]\n",
    "ss_label = [\"nr34\", \"nr2\", \"nr1\", \"rem\", \"wake\"]\n",
    "rec = rec.rename({\"rec_\"+_ss_label:_ss_label for _ss_label in ss_label})\n",
    "pre = pre.rename({\"pre_\"+_ss_label:_ss_label for _ss_label in ss_label})\n",
    "f_m = f_m.rename({\"f_m_\"+_ss_label:_ss_label for _ss_label in ss_label})\n",
    "df = pd.concat([rec, pre, f_m], axis=1)\n",
    "df = df.rename(columns={0:\"pre\", 1:\"rec\", 2:\"f-m\"})\n",
    "# 表の中身の挿入\n",
    "for row_id in range(1, 6):\n",
    "    for col_id in range(1, 4):\n",
    "        table.cell(row_id, col_id).text = f\"{df.iloc[row_id-1, col_id-1]:.2f}\"\n",
    "# 行名の挿入\n",
    "row_label = [\"sleep stage\"]+ss_label\n",
    "for i in range(6):\n",
    "    table.cell(i, 0).text = row_label[i]\n",
    "# 列名の挿入\n",
    "col_label = [\"rec\", \"pre\", \"f-m\"]\n",
    "for i in range(1, 4):\n",
    "    table.cell(0, i).text = col_label[i-1]\n",
    "prs.save(os.path.join(os.path.split(pptx_filepath)[0], \"output.pptx\"))"
   ]
  },
  {
   "cell_type": "code",
   "execution_count": null,
   "metadata": {},
   "outputs": [],
   "source": []
  }
 ],
 "metadata": {
  "interpreter": {
   "hash": "d8e204fe8763a77f5984c80d9ff80af987f476adf04d6c5f64d6869487c70dc4"
  },
  "kernelspec": {
   "display_name": "Python 3.8.6 64-bit ('tensor_gpu_38': venv)",
   "language": "python",
   "name": "python3"
  },
  "language_info": {
   "codemirror_mode": {
    "name": "ipython",
    "version": 3
   },
   "file_extension": ".py",
   "mimetype": "text/x-python",
   "name": "python",
   "nbconvert_exporter": "python",
   "pygments_lexer": "ipython3",
   "version": "3.8.6"
  },
  "orig_nbformat": 4
 },
 "nbformat": 4,
 "nbformat_minor": 2
}

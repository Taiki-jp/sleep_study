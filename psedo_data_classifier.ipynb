{
 "metadata": {
  "language_info": {
   "codemirror_mode": {
    "name": "ipython",
    "version": 3
   },
   "file_extension": ".py",
   "mimetype": "text/x-python",
   "name": "python",
   "nbconvert_exporter": "python",
   "pygments_lexer": "ipython3",
   "version": "3.8.0"
  },
  "orig_nbformat": 4,
  "kernelspec": {
   "name": "python3",
   "display_name": "Python 3.8.0 64-bit"
  },
  "interpreter": {
   "hash": "4f75b84864a2707f8754bc57a6bb9ec0fa0a7cb62f62b11682355a8c27fee9da"
  }
 },
 "nbformat": 4,
 "nbformat_minor": 2,
 "cells": [
  {
   "cell_type": "code",
   "execution_count": 1,
   "metadata": {},
   "outputs": [],
   "source": [
    "def make_image(x_train, iter, time_hparam, hidden_dim):\n",
    "    # 結果の出力(訓練データそのまま)\n",
    "    evidence = model(x_train)\n",
    "    alpha = evidence + 1\n",
    "    y_pred = alpha/tf.reduce_sum(alpha, axis=1, keepdims=True)\n",
    "    unc = 2/tf.reduce_sum(alpha, axis=1, keepdims=True)\n",
    "    # 2次元空間での不確かさの出力\n",
    "    # グラデーションを作る\n",
    "    # 正解の散布図\n",
    "    figure = plt.figure(figsize=(12,4))\n",
    "    ax = figure.add_subplot(141)\n",
    "    ax.scatter(x_train[:100,0], x_train[:100,1], c=\"r\")\n",
    "    ax.scatter(x_train[100:,0], x_train[100:,1], c=\"b\")\n",
    "    ax.set_title(\"true\")\n",
    "    # 予測の散布図\n",
    "    ax = figure.add_subplot(142)\n",
    "    ax.set_title(\"pred\")\n",
    "    y_pred_ctg = np.argmax(y_pred, axis=1)\n",
    "    for x, label in zip(x_train, y_pred_ctg):\n",
    "        if label == 0:\n",
    "            ax.scatter(x[0], x[1], c=\"r\")\n",
    "        elif label == 1:\n",
    "            ax.scatter(x[0], x[1], c=\"b\")\n",
    "        else:\n",
    "            print(\"exception has occured\")\n",
    "            sys.exit(1)\n",
    "    # 不確かさの分布\n",
    "    ax = figure.add_subplot(143)\n",
    "    ax.set_title(\"unc\")\n",
    "    im = ax.scatter(x_train[:,0], x_train[:,1], c=unc, cmap='Blues', vmin=0, vmax=1)\n",
    "    figure.colorbar(im)\n",
    "\n",
    "    # ロスの分布\n",
    "    loss_fn = EDLLoss(K=2, annealing=1)\n",
    "    _y_train = tf.one_hot(y_train, depth=2)\n",
    "    loss = loss_fn.call(_y_train, alpha)\n",
    "    ax = figure.add_subplot(144)\n",
    "    ax.set_title(\"loss\")\n",
    "    im = ax.scatter(x_train[:,0], x_train[:,1], c=loss, cmap='Blues', vmin=0, vmax=1)\n",
    "    figure.colorbar(im)\n",
    "\n",
    "    plt.legend()\n",
    "    save_path = os.path.join(os.environ[\"sleep\"], \"figures\", \"check_uncertainty\", f\"{time_hparam}\", f\"{hidden_dim}\")\n",
    "    if not os.path.exists(save_path):\n",
    "        os.makedirs(save_path)\n",
    "    if iter < 10:\n",
    "        plt.savefig(os.path.join(save_path, f\"00{iter}.png\"))\n",
    "    elif iter < 100:\n",
    "        plt.savefig(os.path.join(save_path, f\"0{iter}.png\"))\n",
    "    elif iter < 1000:\n",
    "        plt.savefig(os.path.join(save_path, f\"{iter}.png\"))\n",
    "    plt.clf()"
   ]
  },
  {
   "cell_type": "code",
   "execution_count": 2,
   "metadata": {
    "tags": [
     "outputPrepend"
    ]
   },
   "outputs": [
    {
     "output_type": "stream",
     "name": "stdout",
     "text": [
      "致率：92.00%\n",
      "エポック:14\n",
      "No handles with labels found to put in legend.\n",
      "訓練一致率：91.50%\n",
      "エポック:15\n",
      "No handles with labels found to put in legend.\n",
      "訓練一致率：93.00%\n",
      "エポック:16\n",
      "No handles with labels found to put in legend.\n",
      "訓練一致率：93.50%\n",
      "エポック:17\n",
      "No handles with labels found to put in legend.\n",
      "訓練一致率：93.50%\n",
      "エポック:18\n",
      "No handles with labels found to put in legend.\n",
      "訓練一致率：93.00%\n",
      "エポック:19\n",
      "No handles with labels found to put in legend.\n",
      "訓練一致率：95.00%\n",
      "エポック:20\n",
      "<ipython-input-1-9fc2ec2b785d>:10: RuntimeWarning: More than 20 figures have been opened. Figures created through the pyplot interface (`matplotlib.pyplot.figure`) are retained until explicitly closed and may consume too much memory. (To control this warning, see the rcParam `figure.max_open_warning`).\n",
      "  figure = plt.figure(figsize=(12,4))\n",
      "No handles with labels found to put in legend.\n",
      "訓練一致率：96.00%\n",
      "エポック:21\n",
      "No handles with labels found to put in legend.\n",
      "訓練一致率：95.50%\n",
      "エポック:22\n",
      "No handles with labels found to put in legend.\n",
      "訓練一致率：95.50%\n",
      "エポック:23\n",
      "No handles with labels found to put in legend.\n",
      "訓練一致率：96.00%\n",
      "エポック:24\n",
      "No handles with labels found to put in legend.\n",
      "訓練一致率：95.00%\n",
      "エポック:25\n",
      "No handles with labels found to put in legend.\n",
      "訓練一致率：95.00%\n",
      "エポック:26\n",
      "No handles with labels found to put in legend.\n",
      "訓練一致率：95.00%\n",
      "エポック:27\n",
      "No handles with labels found to put in legend.\n",
      "訓練一致率：95.00%\n",
      "エポック:28\n",
      "No handles with labels found to put in legend.\n",
      "訓練一致率：95.50%\n",
      "エポック:29\n",
      "No handles with labels found to put in legend.\n",
      "訓練一致率：95.50%\n",
      "エポック:30\n",
      "No handles with labels found to put in legend.\n",
      "訓練一致率：95.50%\n",
      "エポック:31\n",
      "No handles with labels found to put in legend.\n",
      "訓練一致率：95.50%\n",
      "エポック:32\n",
      "No handles with labels found to put in legend.\n",
      "訓練一致率：96.50%\n",
      "エポック:33\n",
      "No handles with labels found to put in legend.\n",
      "訓練一致率：96.00%\n",
      "エポック:34\n",
      "No handles with labels found to put in legend.\n",
      "訓練一致率：95.50%\n",
      "エポック:35\n",
      "No handles with labels found to put in legend.\n",
      "訓練一致率：96.50%\n",
      "エポック:36\n",
      "No handles with labels found to put in legend.\n",
      "訓練一致率：97.50%\n",
      "エポック:37\n",
      "No handles with labels found to put in legend.\n",
      "訓練一致率：97.50%\n",
      "エポック:38\n",
      "No handles with labels found to put in legend.\n",
      "訓練一致率：97.00%\n",
      "エポック:39\n",
      "No handles with labels found to put in legend.\n",
      "訓練一致率：97.50%\n",
      "エポック:40\n",
      "No handles with labels found to put in legend.\n",
      "訓練一致率：97.50%\n",
      "エポック:41\n",
      "No handles with labels found to put in legend.\n",
      "訓練一致率：97.50%\n",
      "エポック:42\n",
      "No handles with labels found to put in legend.\n",
      "訓練一致率：97.50%\n",
      "エポック:43\n",
      "No handles with labels found to put in legend.\n",
      "訓練一致率：97.50%\n",
      "エポック:44\n",
      "No handles with labels found to put in legend.\n",
      "訓練一致率：97.50%\n",
      "エポック:45\n",
      "No handles with labels found to put in legend.\n",
      "訓練一致率：97.50%\n",
      "エポック:46\n",
      "No handles with labels found to put in legend.\n",
      "訓練一致率：97.50%\n",
      "エポック:47\n",
      "No handles with labels found to put in legend.\n",
      "訓練一致率：97.00%\n",
      "エポック:48\n",
      "No handles with labels found to put in legend.\n",
      "訓練一致率：97.50%\n",
      "エポック:49\n",
      "No handles with labels found to put in legend.\n",
      "訓練一致率：97.50%\n",
      "エポック:50\n",
      "No handles with labels found to put in legend.\n",
      "訓練一致率：97.50%\n",
      "エポック:51\n",
      "No handles with labels found to put in legend.\n",
      "訓練一致率：97.50%\n",
      "エポック:52\n",
      "No handles with labels found to put in legend.\n",
      "訓練一致率：97.00%\n",
      "エポック:53\n",
      "No handles with labels found to put in legend.\n",
      "訓練一致率：97.00%\n",
      "エポック:54\n",
      "No handles with labels found to put in legend.\n",
      "訓練一致率：97.50%\n",
      "エポック:55\n",
      "No handles with labels found to put in legend.\n",
      "訓練一致率：97.50%\n",
      "エポック:56\n",
      "No handles with labels found to put in legend.\n",
      "訓練一致率：97.50%\n",
      "エポック:57\n",
      "No handles with labels found to put in legend.\n",
      "訓練一致率：97.50%\n",
      "エポック:58\n",
      "No handles with labels found to put in legend.\n",
      "訓練一致率：97.50%\n",
      "エポック:59\n",
      "No handles with labels found to put in legend.\n",
      "訓練一致率：97.50%\n",
      "エポック:60\n",
      "No handles with labels found to put in legend.\n",
      "訓練一致率：97.50%\n",
      "エポック:61\n",
      "No handles with labels found to put in legend.\n",
      "訓練一致率：97.50%\n",
      "エポック:62\n",
      "No handles with labels found to put in legend.\n",
      "訓練一致率：98.00%\n",
      "エポック:63\n",
      "No handles with labels found to put in legend.\n",
      "訓練一致率：98.00%\n",
      "エポック:64\n",
      "No handles with labels found to put in legend.\n",
      "訓練一致率：98.00%\n",
      "エポック:65\n",
      "No handles with labels found to put in legend.\n",
      "訓練一致率：97.50%\n",
      "エポック:66\n",
      "No handles with labels found to put in legend.\n",
      "訓練一致率：98.00%\n",
      "エポック:67\n",
      "No handles with labels found to put in legend.\n",
      "訓練一致率：98.00%\n",
      "エポック:68\n",
      "No handles with labels found to put in legend.\n",
      "訓練一致率：98.00%\n",
      "エポック:69\n",
      "No handles with labels found to put in legend.\n",
      "訓練一致率：97.50%\n",
      "エポック:70\n",
      "No handles with labels found to put in legend.\n",
      "訓練一致率：97.50%\n",
      "エポック:71\n",
      "No handles with labels found to put in legend.\n",
      "訓練一致率：98.00%\n",
      "エポック:72\n",
      "No handles with labels found to put in legend.\n",
      "訓練一致率：98.00%\n",
      "エポック:73\n",
      "No handles with labels found to put in legend.\n",
      "訓練一致率：98.00%\n",
      "エポック:74\n",
      "No handles with labels found to put in legend.\n",
      "訓練一致率：98.00%\n",
      "エポック:75\n",
      "No handles with labels found to put in legend.\n",
      "訓練一致率：98.00%\n",
      "エポック:76\n",
      "No handles with labels found to put in legend.\n",
      "訓練一致率：98.00%\n",
      "エポック:77\n",
      "No handles with labels found to put in legend.\n",
      "訓練一致率：98.00%\n",
      "エポック:78\n",
      "No handles with labels found to put in legend.\n",
      "訓練一致率：98.00%\n",
      "エポック:79\n",
      "No handles with labels found to put in legend.\n",
      "訓練一致率：98.00%\n",
      "エポック:80\n",
      "No handles with labels found to put in legend.\n",
      "訓練一致率：98.00%\n",
      "エポック:81\n",
      "No handles with labels found to put in legend.\n",
      "訓練一致率：99.00%\n",
      "エポック:82\n",
      "No handles with labels found to put in legend.\n",
      "訓練一致率：98.50%\n",
      "エポック:83\n",
      "No handles with labels found to put in legend.\n",
      "訓練一致率：98.00%\n",
      "エポック:84\n",
      "No handles with labels found to put in legend.\n",
      "訓練一致率：98.00%\n",
      "エポック:85\n",
      "No handles with labels found to put in legend.\n",
      "訓練一致率：98.50%\n",
      "エポック:86\n",
      "No handles with labels found to put in legend.\n",
      "訓練一致率：98.50%\n",
      "エポック:87\n",
      "No handles with labels found to put in legend.\n",
      "訓練一致率：98.50%\n",
      "エポック:88\n",
      "No handles with labels found to put in legend.\n",
      "訓練一致率：98.50%\n",
      "エポック:89\n",
      "No handles with labels found to put in legend.\n",
      "訓練一致率：99.00%\n",
      "エポック:90\n",
      "No handles with labels found to put in legend.\n",
      "訓練一致率：98.50%\n",
      "エポック:91\n",
      "No handles with labels found to put in legend.\n",
      "訓練一致率：99.00%\n",
      "エポック:92\n",
      "No handles with labels found to put in legend.\n",
      "訓練一致率：99.50%\n",
      "エポック:93\n",
      "No handles with labels found to put in legend.\n",
      "訓練一致率：98.50%\n",
      "エポック:94\n",
      "No handles with labels found to put in legend.\n",
      "訓練一致率：99.00%\n",
      "エポック:95\n",
      "No handles with labels found to put in legend.\n",
      "訓練一致率：99.00%\n",
      "エポック:96\n",
      "No handles with labels found to put in legend.\n",
      "訓練一致率：99.00%\n",
      "エポック:97\n",
      "No handles with labels found to put in legend.\n",
      "訓練一致率：99.00%\n",
      "エポック:98\n",
      "No handles with labels found to put in legend.\n",
      "訓練一致率：99.00%\n",
      "エポック:99\n",
      "No handles with labels found to put in legend.\n",
      "訓練一致率：99.00%\n",
      "エポック:100\n",
      "No handles with labels found to put in legend.\n",
      "訓練一致率：99.00%\n",
      "エポック:101\n",
      "No handles with labels found to put in legend.\n",
      "訓練一致率：99.00%\n",
      "エポック:102\n",
      "No handles with labels found to put in legend.\n",
      "訓練一致率：99.00%\n",
      "エポック:103\n",
      "No handles with labels found to put in legend.\n",
      "訓練一致率：99.00%\n",
      "エポック:104\n",
      "No handles with labels found to put in legend.\n",
      "訓練一致率：99.00%\n",
      "エポック:105\n",
      "No handles with labels found to put in legend.\n",
      "訓練一致率：99.00%\n",
      "エポック:106\n",
      "No handles with labels found to put in legend.\n",
      "訓練一致率：99.00%\n",
      "エポック:107\n",
      "No handles with labels found to put in legend.\n",
      "訓練一致率：99.00%\n",
      "エポック:108\n",
      "No handles with labels found to put in legend.\n",
      "訓練一致率：99.50%\n",
      "エポック:109\n",
      "No handles with labels found to put in legend.\n",
      "訓練一致率：99.00%\n",
      "エポック:110\n",
      "No handles with labels found to put in legend.\n",
      "訓練一致率：99.00%\n",
      "エポック:111\n",
      "No handles with labels found to put in legend.\n",
      "訓練一致率：99.50%\n",
      "エポック:112\n",
      "No handles with labels found to put in legend.\n",
      "訓練一致率：99.00%\n",
      "エポック:113\n",
      "No handles with labels found to put in legend.\n",
      "訓練一致率：99.00%\n",
      "エポック:114\n",
      "No handles with labels found to put in legend.\n",
      "訓練一致率：99.50%\n",
      "エポック:115\n",
      "No handles with labels found to put in legend.\n",
      "訓練一致率：99.50%\n",
      "エポック:116\n",
      "No handles with labels found to put in legend.\n",
      "訓練一致率：99.50%\n",
      "エポック:117\n",
      "No handles with labels found to put in legend.\n",
      "訓練一致率：99.50%\n",
      "エポック:118\n",
      "No handles with labels found to put in legend.\n",
      "訓練一致率：99.50%\n",
      "エポック:119\n",
      "No handles with labels found to put in legend.\n",
      "訓練一致率：99.00%\n",
      "エポック:120\n",
      "No handles with labels found to put in legend.\n",
      "訓練一致率：99.50%\n",
      "エポック:121\n",
      "No handles with labels found to put in legend.\n",
      "訓練一致率：99.50%\n",
      "エポック:122\n",
      "No handles with labels found to put in legend.\n",
      "訓練一致率：99.50%\n",
      "エポック:123\n",
      "No handles with labels found to put in legend.\n",
      "訓練一致率：99.50%\n",
      "エポック:124\n",
      "No handles with labels found to put in legend.\n",
      "訓練一致率：99.50%\n",
      "エポック:125\n",
      "No handles with labels found to put in legend.\n",
      "訓練一致率：99.50%\n",
      "エポック:126\n",
      "No handles with labels found to put in legend.\n",
      "訓練一致率：99.50%\n",
      "エポック:127\n",
      "No handles with labels found to put in legend.\n",
      "訓練一致率：99.50%\n",
      "エポック:128\n",
      "No handles with labels found to put in legend.\n",
      "訓練一致率：99.50%\n",
      "エポック:129\n",
      "No handles with labels found to put in legend.\n",
      "訓練一致率：99.50%\n",
      "エポック:130\n",
      "No handles with labels found to put in legend.\n",
      "訓練一致率：99.50%\n",
      "エポック:131\n",
      "No handles with labels found to put in legend.\n",
      "訓練一致率：99.50%\n",
      "エポック:132\n",
      "No handles with labels found to put in legend.\n",
      "訓練一致率：99.50%\n",
      "エポック:133\n",
      "No handles with labels found to put in legend.\n",
      "訓練一致率：99.50%\n",
      "エポック:134\n",
      "No handles with labels found to put in legend.\n",
      "訓練一致率：99.50%\n",
      "エポック:135\n",
      "No handles with labels found to put in legend.\n",
      "訓練一致率：99.50%\n",
      "エポック:136\n",
      "No handles with labels found to put in legend.\n",
      "訓練一致率：99.50%\n",
      "エポック:137\n",
      "No handles with labels found to put in legend.\n",
      "訓練一致率：99.50%\n",
      "エポック:138\n",
      "No handles with labels found to put in legend.\n",
      "訓練一致率：99.50%\n",
      "エポック:139\n",
      "No handles with labels found to put in legend.\n",
      "訓練一致率：99.50%\n",
      "エポック:140\n",
      "No handles with labels found to put in legend.\n",
      "訓練一致率：99.50%\n",
      "エポック:141\n",
      "No handles with labels found to put in legend.\n",
      "訓練一致率：99.50%\n",
      "エポック:142\n",
      "No handles with labels found to put in legend.\n",
      "訓練一致率：99.50%\n",
      "エポック:143\n",
      "No handles with labels found to put in legend.\n",
      "訓練一致率：99.50%\n",
      "エポック:144\n",
      "No handles with labels found to put in legend.\n",
      "訓練一致率：99.50%\n",
      "エポック:145\n",
      "No handles with labels found to put in legend.\n",
      "訓練一致率：99.50%\n",
      "エポック:146\n",
      "No handles with labels found to put in legend.\n",
      "訓練一致率：99.50%\n",
      "エポック:147\n",
      "No handles with labels found to put in legend.\n",
      "訓練一致率：99.50%\n",
      "エポック:148\n",
      "No handles with labels found to put in legend.\n",
      "訓練一致率：99.50%\n",
      "エポック:149\n",
      "No handles with labels found to put in legend.\n",
      "訓練一致率：99.50%\n",
      "エポック:150\n",
      "No handles with labels found to put in legend.\n",
      "訓練一致率：99.50%\n",
      "エポック:151\n",
      "No handles with labels found to put in legend.\n",
      "訓練一致率：99.50%\n",
      "エポック:152\n",
      "No handles with labels found to put in legend.\n",
      "訓練一致率：99.50%\n",
      "エポック:153\n",
      "No handles with labels found to put in legend.\n",
      "訓練一致率：99.50%\n",
      "エポック:154\n",
      "No handles with labels found to put in legend.\n",
      "訓練一致率：99.50%\n",
      "エポック:155\n",
      "No handles with labels found to put in legend.\n",
      "訓練一致率：99.50%\n",
      "エポック:156\n",
      "No handles with labels found to put in legend.\n",
      "訓練一致率：99.50%\n",
      "エポック:157\n",
      "No handles with labels found to put in legend.\n",
      "訓練一致率：99.50%\n",
      "エポック:158\n",
      "No handles with labels found to put in legend.\n",
      "訓練一致率：99.50%\n",
      "エポック:159\n",
      "No handles with labels found to put in legend.\n",
      "訓練一致率：99.50%\n",
      "エポック:160\n",
      "No handles with labels found to put in legend.\n",
      "訓練一致率：99.50%\n",
      "エポック:161\n",
      "No handles with labels found to put in legend.\n",
      "訓練一致率：99.50%\n",
      "エポック:162\n",
      "No handles with labels found to put in legend.\n",
      "訓練一致率：99.50%\n",
      "エポック:163\n",
      "No handles with labels found to put in legend.\n",
      "訓練一致率：99.50%\n",
      "エポック:164\n",
      "No handles with labels found to put in legend.\n",
      "訓練一致率：99.50%\n",
      "エポック:165\n",
      "No handles with labels found to put in legend.\n",
      "訓練一致率：99.50%\n",
      "エポック:166\n",
      "No handles with labels found to put in legend.\n",
      "訓練一致率：99.50%\n",
      "エポック:167\n",
      "No handles with labels found to put in legend.\n",
      "訓練一致率：99.50%\n",
      "エポック:168\n",
      "No handles with labels found to put in legend.\n",
      "訓練一致率：99.50%\n",
      "エポック:169\n",
      "No handles with labels found to put in legend.\n",
      "訓練一致率：99.50%\n",
      "エポック:170\n",
      "No handles with labels found to put in legend.\n",
      "訓練一致率：99.50%\n",
      "エポック:171\n",
      "No handles with labels found to put in legend.\n",
      "訓練一致率：99.50%\n",
      "エポック:172\n",
      "No handles with labels found to put in legend.\n",
      "訓練一致率：99.50%\n",
      "エポック:173\n",
      "No handles with labels found to put in legend.\n",
      "訓練一致率：99.50%\n",
      "エポック:174\n",
      "No handles with labels found to put in legend.\n",
      "訓練一致率：99.50%\n",
      "エポック:175\n",
      "No handles with labels found to put in legend.\n",
      "訓練一致率：99.50%\n",
      "エポック:176\n",
      "No handles with labels found to put in legend.\n",
      "訓練一致率：99.50%\n",
      "エポック:177\n",
      "No handles with labels found to put in legend.\n",
      "訓練一致率：99.50%\n",
      "エポック:178\n",
      "No handles with labels found to put in legend.\n",
      "訓練一致率：99.50%\n",
      "エポック:179\n",
      "No handles with labels found to put in legend.\n",
      "訓練一致率：99.50%\n",
      "エポック:180\n",
      "No handles with labels found to put in legend.\n",
      "訓練一致率：99.50%\n",
      "エポック:181\n",
      "No handles with labels found to put in legend.\n",
      "訓練一致率：99.50%\n",
      "エポック:182\n",
      "No handles with labels found to put in legend.\n",
      "訓練一致率：99.50%\n",
      "エポック:183\n",
      "No handles with labels found to put in legend.\n",
      "訓練一致率：99.50%\n",
      "エポック:184\n",
      "No handles with labels found to put in legend.\n",
      "訓練一致率：99.50%\n",
      "エポック:185\n",
      "No handles with labels found to put in legend.\n",
      "訓練一致率：99.50%\n",
      "エポック:186\n",
      "No handles with labels found to put in legend.\n",
      "訓練一致率：99.50%\n",
      "エポック:187\n",
      "No handles with labels found to put in legend.\n",
      "訓練一致率：99.50%\n",
      "エポック:188\n",
      "No handles with labels found to put in legend.\n",
      "訓練一致率：99.50%\n",
      "エポック:189\n",
      "No handles with labels found to put in legend.\n",
      "訓練一致率：99.50%\n",
      "エポック:190\n",
      "No handles with labels found to put in legend.\n",
      "訓練一致率：99.50%\n",
      "エポック:191\n",
      "No handles with labels found to put in legend.\n",
      "訓練一致率：99.50%\n",
      "エポック:192\n",
      "No handles with labels found to put in legend.\n",
      "訓練一致率：99.50%\n",
      "エポック:193\n",
      "No handles with labels found to put in legend.\n",
      "訓練一致率：99.50%\n",
      "エポック:194\n",
      "No handles with labels found to put in legend.\n",
      "訓練一致率：99.50%\n",
      "エポック:195\n",
      "No handles with labels found to put in legend.\n",
      "訓練一致率：99.50%\n",
      "エポック:196\n",
      "No handles with labels found to put in legend.\n",
      "訓練一致率：99.50%\n",
      "エポック:197\n",
      "No handles with labels found to put in legend.\n",
      "訓練一致率：99.50%\n",
      "エポック:198\n",
      "No handles with labels found to put in legend.\n",
      "訓練一致率：99.50%\n",
      "エポック:199\n",
      "No handles with labels found to put in legend.\n",
      "訓練一致率：99.50%\n",
      "エポック:200\n",
      "No handles with labels found to put in legend.\n",
      "訓練一致率：99.50%\n",
      "エポック:201\n",
      "No handles with labels found to put in legend.\n",
      "訓練一致率：99.50%\n",
      "エポック:202\n",
      "No handles with labels found to put in legend.\n",
      "訓練一致率：99.50%\n",
      "エポック:203\n",
      "No handles with labels found to put in legend.\n",
      "訓練一致率：99.50%\n",
      "エポック:204\n",
      "No handles with labels found to put in legend.\n",
      "訓練一致率：99.50%\n",
      "エポック:205\n",
      "No handles with labels found to put in legend.\n",
      "訓練一致率：99.50%\n",
      "エポック:206\n",
      "No handles with labels found to put in legend.\n",
      "訓練一致率：99.50%\n",
      "エポック:207\n",
      "No handles with labels found to put in legend.\n",
      "訓練一致率：99.50%\n",
      "エポック:208\n",
      "No handles with labels found to put in legend.\n",
      "訓練一致率：99.50%\n",
      "エポック:209\n",
      "No handles with labels found to put in legend.\n",
      "訓練一致率：99.50%\n",
      "エポック:210\n",
      "No handles with labels found to put in legend.\n",
      "訓練一致率：99.50%\n",
      "エポック:211\n",
      "No handles with labels found to put in legend.\n",
      "訓練一致率：99.50%\n",
      "エポック:212\n",
      "No handles with labels found to put in legend.\n",
      "訓練一致率：99.50%\n",
      "エポック:213\n",
      "No handles with labels found to put in legend.\n",
      "訓練一致率：99.50%\n",
      "エポック:214\n",
      "No handles with labels found to put in legend.\n",
      "訓練一致率：99.50%\n",
      "エポック:215\n",
      "No handles with labels found to put in legend.\n",
      "訓練一致率：99.50%\n",
      "エポック:216\n",
      "No handles with labels found to put in legend.\n",
      "訓練一致率：99.50%\n",
      "エポック:217\n",
      "No handles with labels found to put in legend.\n",
      "訓練一致率：99.50%\n",
      "エポック:218\n",
      "No handles with labels found to put in legend.\n",
      "訓練一致率：99.50%\n",
      "エポック:219\n",
      "No handles with labels found to put in legend.\n",
      "訓練一致率：99.50%\n",
      "エポック:220\n",
      "No handles with labels found to put in legend.\n",
      "訓練一致率：99.50%\n",
      "エポック:221\n",
      "No handles with labels found to put in legend.\n",
      "訓練一致率：99.50%\n",
      "エポック:222\n",
      "No handles with labels found to put in legend.\n",
      "訓練一致率：99.50%\n",
      "エポック:223\n",
      "No handles with labels found to put in legend.\n",
      "訓練一致率：99.50%\n",
      "エポック:224\n",
      "No handles with labels found to put in legend.\n",
      "訓練一致率：99.50%\n",
      "エポック:225\n",
      "No handles with labels found to put in legend.\n",
      "訓練一致率：99.50%\n",
      "エポック:226\n",
      "No handles with labels found to put in legend.\n",
      "訓練一致率：99.50%\n",
      "エポック:227\n",
      "No handles with labels found to put in legend.\n",
      "訓練一致率：99.50%\n",
      "エポック:228\n",
      "No handles with labels found to put in legend.\n",
      "訓練一致率：99.50%\n",
      "エポック:229\n",
      "No handles with labels found to put in legend.\n",
      "訓練一致率：99.50%\n",
      "エポック:230\n",
      "No handles with labels found to put in legend.\n",
      "訓練一致率：99.50%\n",
      "エポック:231\n",
      "No handles with labels found to put in legend.\n",
      "訓練一致率：99.50%\n",
      "エポック:232\n",
      "No handles with labels found to put in legend.\n",
      "訓練一致率：99.50%\n",
      "エポック:233\n",
      "No handles with labels found to put in legend.\n",
      "訓練一致率：99.50%\n",
      "エポック:234\n",
      "No handles with labels found to put in legend.\n",
      "訓練一致率：99.50%\n",
      "エポック:235\n",
      "No handles with labels found to put in legend.\n",
      "訓練一致率：99.50%\n",
      "エポック:236\n",
      "No handles with labels found to put in legend.\n",
      "訓練一致率：99.50%\n",
      "エポック:237\n",
      "No handles with labels found to put in legend.\n",
      "訓練一致率：99.50%\n",
      "エポック:238\n",
      "No handles with labels found to put in legend.\n",
      "訓練一致率：99.50%\n",
      "エポック:239\n",
      "No handles with labels found to put in legend.\n",
      "訓練一致率：99.50%\n",
      "エポック:240\n",
      "No handles with labels found to put in legend.\n",
      "訓練一致率：99.50%\n",
      "エポック:241\n",
      "No handles with labels found to put in legend.\n",
      "訓練一致率：99.50%\n",
      "エポック:242\n",
      "No handles with labels found to put in legend.\n",
      "訓練一致率：99.50%\n",
      "エポック:243\n",
      "No handles with labels found to put in legend.\n",
      "訓練一致率：99.50%\n",
      "エポック:244\n",
      "No handles with labels found to put in legend.\n",
      "訓練一致率：99.50%\n",
      "エポック:245\n",
      "No handles with labels found to put in legend.\n",
      "訓練一致率：99.50%\n",
      "エポック:246\n",
      "No handles with labels found to put in legend.\n",
      "訓練一致率：99.50%\n",
      "エポック:247\n",
      "No handles with labels found to put in legend.\n",
      "訓練一致率：99.50%\n",
      "エポック:248\n",
      "No handles with labels found to put in legend.\n",
      "訓練一致率：99.50%\n",
      "エポック:249\n",
      "No handles with labels found to put in legend.\n",
      "訓練一致率：99.50%\n",
      "エポック:250\n",
      "No handles with labels found to put in legend.\n",
      "訓練一致率：99.50%\n",
      "エポック:251\n",
      "No handles with labels found to put in legend.\n",
      "訓練一致率：99.50%\n",
      "エポック:252\n",
      "No handles with labels found to put in legend.\n",
      "訓練一致率：99.50%\n",
      "エポック:253\n",
      "No handles with labels found to put in legend.\n",
      "訓練一致率：99.50%\n",
      "エポック:254\n",
      "No handles with labels found to put in legend.\n",
      "訓練一致率：99.50%\n",
      "エポック:255\n",
      "No handles with labels found to put in legend.\n",
      "訓練一致率：99.50%\n",
      "エポック:256\n",
      "No handles with labels found to put in legend.\n",
      "訓練一致率：99.50%\n",
      "エポック:257\n",
      "No handles with labels found to put in legend.\n",
      "訓練一致率：99.50%\n",
      "エポック:258\n",
      "No handles with labels found to put in legend.\n",
      "訓練一致率：99.50%\n",
      "エポック:259\n",
      "No handles with labels found to put in legend.\n",
      "訓練一致率：99.50%\n",
      "エポック:260\n",
      "No handles with labels found to put in legend.\n",
      "訓練一致率：99.50%\n",
      "エポック:261\n",
      "No handles with labels found to put in legend.\n",
      "訓練一致率：99.50%\n",
      "エポック:262\n",
      "No handles with labels found to put in legend.\n",
      "訓練一致率：99.50%\n",
      "エポック:263\n",
      "No handles with labels found to put in legend.\n",
      "訓練一致率：99.50%\n",
      "エポック:264\n",
      "No handles with labels found to put in legend.\n",
      "訓練一致率：99.50%\n",
      "エポック:265\n",
      "No handles with labels found to put in legend.\n",
      "訓練一致率：99.50%\n",
      "エポック:266\n",
      "No handles with labels found to put in legend.\n",
      "訓練一致率：99.50%\n",
      "エポック:267\n",
      "No handles with labels found to put in legend.\n",
      "訓練一致率：99.50%\n",
      "エポック:268\n",
      "No handles with labels found to put in legend.\n",
      "訓練一致率：99.50%\n",
      "エポック:269\n",
      "No handles with labels found to put in legend.\n",
      "訓練一致率：99.50%\n",
      "エポック:270\n",
      "No handles with labels found to put in legend.\n",
      "訓練一致率：99.50%\n",
      "エポック:271\n",
      "No handles with labels found to put in legend.\n",
      "訓練一致率：99.50%\n",
      "エポック:272\n",
      "No handles with labels found to put in legend.\n",
      "訓練一致率：99.50%\n",
      "エポック:273\n",
      "No handles with labels found to put in legend.\n",
      "訓練一致率：99.50%\n",
      "エポック:274\n",
      "No handles with labels found to put in legend.\n",
      "訓練一致率：99.50%\n",
      "エポック:275\n",
      "No handles with labels found to put in legend.\n",
      "訓練一致率：99.50%\n",
      "エポック:276\n",
      "No handles with labels found to put in legend.\n",
      "訓練一致率：99.50%\n",
      "エポック:277\n",
      "No handles with labels found to put in legend.\n",
      "訓練一致率：99.50%\n",
      "エポック:278\n",
      "No handles with labels found to put in legend.\n",
      "訓練一致率：99.50%\n",
      "エポック:279\n",
      "No handles with labels found to put in legend.\n",
      "訓練一致率：99.50%\n",
      "エポック:280\n",
      "No handles with labels found to put in legend.\n",
      "訓練一致率：99.50%\n",
      "エポック:281\n",
      "No handles with labels found to put in legend.\n",
      "訓練一致率：99.50%\n",
      "エポック:282\n",
      "No handles with labels found to put in legend.\n",
      "訓練一致率：99.50%\n",
      "エポック:283\n",
      "No handles with labels found to put in legend.\n",
      "訓練一致率：99.50%\n",
      "エポック:284\n",
      "No handles with labels found to put in legend.\n",
      "訓練一致率：99.50%\n",
      "エポック:285\n",
      "No handles with labels found to put in legend.\n",
      "訓練一致率：99.50%\n",
      "エポック:286\n",
      "No handles with labels found to put in legend.\n",
      "訓練一致率：99.50%\n",
      "エポック:287\n",
      "No handles with labels found to put in legend.\n",
      "訓練一致率：99.50%\n",
      "エポック:288\n",
      "No handles with labels found to put in legend.\n",
      "訓練一致率：99.50%\n",
      "エポック:289\n",
      "No handles with labels found to put in legend.\n",
      "訓練一致率：99.50%\n",
      "エポック:290\n",
      "No handles with labels found to put in legend.\n",
      "訓練一致率：99.50%\n",
      "エポック:291\n",
      "No handles with labels found to put in legend.\n",
      "訓練一致率：99.50%\n",
      "エポック:292\n",
      "No handles with labels found to put in legend.\n",
      "訓練一致率：99.50%\n",
      "エポック:293\n",
      "No handles with labels found to put in legend.\n",
      "訓練一致率：99.50%\n",
      "エポック:294\n",
      "No handles with labels found to put in legend.\n",
      "訓練一致率：99.50%\n",
      "エポック:295\n",
      "No handles with labels found to put in legend.\n",
      "訓練一致率：99.50%\n",
      "エポック:296\n",
      "No handles with labels found to put in legend.\n",
      "訓練一致率：99.50%\n",
      "エポック:297\n",
      "No handles with labels found to put in legend.\n",
      "訓練一致率：99.50%\n",
      "エポック:298\n",
      "No handles with labels found to put in legend.\n",
      "訓練一致率：99.50%\n",
      "エポック:299\n",
      "No handles with labels found to put in legend.\n",
      "訓練一致率：99.50%\n"
     ]
    },
    {
     "output_type": "display_data",
     "data": {
      "text/plain": "<Figure size 864x288 with 0 Axes>"
     },
     "metadata": {}
    },
    {
     "output_type": "display_data",
     "data": {
      "text/plain": "<Figure size 864x288 with 0 Axes>"
     },
     "metadata": {}
    },
    {
     "output_type": "display_data",
     "data": {
      "text/plain": "<Figure size 864x288 with 0 Axes>"
     },
     "metadata": {}
    },
    {
     "output_type": "display_data",
     "data": {
      "text/plain": "<Figure size 864x288 with 0 Axes>"
     },
     "metadata": {}
    },
    {
     "output_type": "display_data",
     "data": {
      "text/plain": "<Figure size 864x288 with 0 Axes>"
     },
     "metadata": {}
    },
    {
     "output_type": "display_data",
     "data": {
      "text/plain": "<Figure size 864x288 with 0 Axes>"
     },
     "metadata": {}
    },
    {
     "output_type": "display_data",
     "data": {
      "text/plain": "<Figure size 864x288 with 0 Axes>"
     },
     "metadata": {}
    },
    {
     "output_type": "display_data",
     "data": {
      "text/plain": "<Figure size 864x288 with 0 Axes>"
     },
     "metadata": {}
    },
    {
     "output_type": "display_data",
     "data": {
      "text/plain": "<Figure size 864x288 with 0 Axes>"
     },
     "metadata": {}
    },
    {
     "output_type": "display_data",
     "data": {
      "text/plain": "<Figure size 864x288 with 0 Axes>"
     },
     "metadata": {}
    },
    {
     "output_type": "display_data",
     "data": {
      "text/plain": "<Figure size 864x288 with 0 Axes>"
     },
     "metadata": {}
    },
    {
     "output_type": "display_data",
     "data": {
      "text/plain": "<Figure size 864x288 with 0 Axes>"
     },
     "metadata": {}
    },
    {
     "output_type": "display_data",
     "data": {
      "text/plain": "<Figure size 864x288 with 0 Axes>"
     },
     "metadata": {}
    },
    {
     "output_type": "display_data",
     "data": {
      "text/plain": "<Figure size 864x288 with 0 Axes>"
     },
     "metadata": {}
    },
    {
     "output_type": "display_data",
     "data": {
      "text/plain": "<Figure size 864x288 with 0 Axes>"
     },
     "metadata": {}
    },
    {
     "output_type": "display_data",
     "data": {
      "text/plain": "<Figure size 864x288 with 0 Axes>"
     },
     "metadata": {}
    },
    {
     "output_type": "display_data",
     "data": {
      "text/plain": "<Figure size 864x288 with 0 Axes>"
     },
     "metadata": {}
    },
    {
     "output_type": "display_data",
     "data": {
      "text/plain": "<Figure size 864x288 with 0 Axes>"
     },
     "metadata": {}
    },
    {
     "output_type": "display_data",
     "data": {
      "text/plain": "<Figure size 864x288 with 0 Axes>"
     },
     "metadata": {}
    },
    {
     "output_type": "display_data",
     "data": {
      "text/plain": "<Figure size 864x288 with 0 Axes>"
     },
     "metadata": {}
    },
    {
     "output_type": "display_data",
     "data": {
      "text/plain": "<Figure size 864x288 with 0 Axes>"
     },
     "metadata": {}
    },
    {
     "output_type": "display_data",
     "data": {
      "text/plain": "<Figure size 864x288 with 0 Axes>"
     },
     "metadata": {}
    },
    {
     "output_type": "display_data",
     "data": {
      "text/plain": "<Figure size 864x288 with 0 Axes>"
     },
     "metadata": {}
    },
    {
     "output_type": "display_data",
     "data": {
      "text/plain": "<Figure size 864x288 with 0 Axes>"
     },
     "metadata": {}
    },
    {
     "output_type": "display_data",
     "data": {
      "text/plain": "<Figure size 864x288 with 0 Axes>"
     },
     "metadata": {}
    },
    {
     "output_type": "display_data",
     "data": {
      "text/plain": "<Figure size 864x288 with 0 Axes>"
     },
     "metadata": {}
    },
    {
     "output_type": "display_data",
     "data": {
      "text/plain": "<Figure size 864x288 with 0 Axes>"
     },
     "metadata": {}
    },
    {
     "output_type": "display_data",
     "data": {
      "text/plain": "<Figure size 864x288 with 0 Axes>"
     },
     "metadata": {}
    },
    {
     "output_type": "display_data",
     "data": {
      "text/plain": "<Figure size 864x288 with 0 Axes>"
     },
     "metadata": {}
    },
    {
     "output_type": "display_data",
     "data": {
      "text/plain": "<Figure size 864x288 with 0 Axes>"
     },
     "metadata": {}
    },
    {
     "output_type": "display_data",
     "data": {
      "text/plain": "<Figure size 864x288 with 0 Axes>"
     },
     "metadata": {}
    },
    {
     "output_type": "display_data",
     "data": {
      "text/plain": "<Figure size 864x288 with 0 Axes>"
     },
     "metadata": {}
    },
    {
     "output_type": "display_data",
     "data": {
      "text/plain": "<Figure size 864x288 with 0 Axes>"
     },
     "metadata": {}
    },
    {
     "output_type": "display_data",
     "data": {
      "text/plain": "<Figure size 864x288 with 0 Axes>"
     },
     "metadata": {}
    },
    {
     "output_type": "display_data",
     "data": {
      "text/plain": "<Figure size 864x288 with 0 Axes>"
     },
     "metadata": {}
    },
    {
     "output_type": "display_data",
     "data": {
      "text/plain": "<Figure size 864x288 with 0 Axes>"
     },
     "metadata": {}
    },
    {
     "output_type": "display_data",
     "data": {
      "text/plain": "<Figure size 864x288 with 0 Axes>"
     },
     "metadata": {}
    },
    {
     "output_type": "display_data",
     "data": {
      "text/plain": "<Figure size 864x288 with 0 Axes>"
     },
     "metadata": {}
    },
    {
     "output_type": "display_data",
     "data": {
      "text/plain": "<Figure size 864x288 with 0 Axes>"
     },
     "metadata": {}
    },
    {
     "output_type": "display_data",
     "data": {
      "text/plain": "<Figure size 864x288 with 0 Axes>"
     },
     "metadata": {}
    },
    {
     "output_type": "display_data",
     "data": {
      "text/plain": "<Figure size 864x288 with 0 Axes>"
     },
     "metadata": {}
    },
    {
     "output_type": "display_data",
     "data": {
      "text/plain": "<Figure size 864x288 with 0 Axes>"
     },
     "metadata": {}
    },
    {
     "output_type": "display_data",
     "data": {
      "text/plain": "<Figure size 864x288 with 0 Axes>"
     },
     "metadata": {}
    },
    {
     "output_type": "display_data",
     "data": {
      "text/plain": "<Figure size 864x288 with 0 Axes>"
     },
     "metadata": {}
    },
    {
     "output_type": "display_data",
     "data": {
      "text/plain": "<Figure size 864x288 with 0 Axes>"
     },
     "metadata": {}
    },
    {
     "output_type": "display_data",
     "data": {
      "text/plain": "<Figure size 864x288 with 0 Axes>"
     },
     "metadata": {}
    },
    {
     "output_type": "display_data",
     "data": {
      "text/plain": "<Figure size 864x288 with 0 Axes>"
     },
     "metadata": {}
    },
    {
     "output_type": "display_data",
     "data": {
      "text/plain": "<Figure size 864x288 with 0 Axes>"
     },
     "metadata": {}
    },
    {
     "output_type": "display_data",
     "data": {
      "text/plain": "<Figure size 864x288 with 0 Axes>"
     },
     "metadata": {}
    },
    {
     "output_type": "display_data",
     "data": {
      "text/plain": "<Figure size 864x288 with 0 Axes>"
     },
     "metadata": {}
    },
    {
     "output_type": "display_data",
     "data": {
      "text/plain": "<Figure size 864x288 with 0 Axes>"
     },
     "metadata": {}
    },
    {
     "output_type": "display_data",
     "data": {
      "text/plain": "<Figure size 864x288 with 0 Axes>"
     },
     "metadata": {}
    },
    {
     "output_type": "display_data",
     "data": {
      "text/plain": "<Figure size 864x288 with 0 Axes>"
     },
     "metadata": {}
    },
    {
     "output_type": "display_data",
     "data": {
      "text/plain": "<Figure size 864x288 with 0 Axes>"
     },
     "metadata": {}
    },
    {
     "output_type": "display_data",
     "data": {
      "text/plain": "<Figure size 864x288 with 0 Axes>"
     },
     "metadata": {}
    },
    {
     "output_type": "display_data",
     "data": {
      "text/plain": "<Figure size 864x288 with 0 Axes>"
     },
     "metadata": {}
    },
    {
     "output_type": "display_data",
     "data": {
      "text/plain": "<Figure size 864x288 with 0 Axes>"
     },
     "metadata": {}
    },
    {
     "output_type": "display_data",
     "data": {
      "text/plain": "<Figure size 864x288 with 0 Axes>"
     },
     "metadata": {}
    },
    {
     "output_type": "display_data",
     "data": {
      "text/plain": "<Figure size 864x288 with 0 Axes>"
     },
     "metadata": {}
    },
    {
     "output_type": "display_data",
     "data": {
      "text/plain": "<Figure size 864x288 with 0 Axes>"
     },
     "metadata": {}
    },
    {
     "output_type": "display_data",
     "data": {
      "text/plain": "<Figure size 864x288 with 0 Axes>"
     },
     "metadata": {}
    },
    {
     "output_type": "display_data",
     "data": {
      "text/plain": "<Figure size 864x288 with 0 Axes>"
     },
     "metadata": {}
    },
    {
     "output_type": "display_data",
     "data": {
      "text/plain": "<Figure size 864x288 with 0 Axes>"
     },
     "metadata": {}
    },
    {
     "output_type": "display_data",
     "data": {
      "text/plain": "<Figure size 864x288 with 0 Axes>"
     },
     "metadata": {}
    },
    {
     "output_type": "display_data",
     "data": {
      "text/plain": "<Figure size 864x288 with 0 Axes>"
     },
     "metadata": {}
    },
    {
     "output_type": "display_data",
     "data": {
      "text/plain": "<Figure size 864x288 with 0 Axes>"
     },
     "metadata": {}
    },
    {
     "output_type": "display_data",
     "data": {
      "text/plain": "<Figure size 864x288 with 0 Axes>"
     },
     "metadata": {}
    },
    {
     "output_type": "display_data",
     "data": {
      "text/plain": "<Figure size 864x288 with 0 Axes>"
     },
     "metadata": {}
    },
    {
     "output_type": "display_data",
     "data": {
      "text/plain": "<Figure size 864x288 with 0 Axes>"
     },
     "metadata": {}
    },
    {
     "output_type": "display_data",
     "data": {
      "text/plain": "<Figure size 864x288 with 0 Axes>"
     },
     "metadata": {}
    },
    {
     "output_type": "display_data",
     "data": {
      "text/plain": "<Figure size 864x288 with 0 Axes>"
     },
     "metadata": {}
    },
    {
     "output_type": "display_data",
     "data": {
      "text/plain": "<Figure size 864x288 with 0 Axes>"
     },
     "metadata": {}
    },
    {
     "output_type": "display_data",
     "data": {
      "text/plain": "<Figure size 864x288 with 0 Axes>"
     },
     "metadata": {}
    },
    {
     "output_type": "display_data",
     "data": {
      "text/plain": "<Figure size 864x288 with 0 Axes>"
     },
     "metadata": {}
    },
    {
     "output_type": "display_data",
     "data": {
      "text/plain": "<Figure size 864x288 with 0 Axes>"
     },
     "metadata": {}
    },
    {
     "output_type": "display_data",
     "data": {
      "text/plain": "<Figure size 864x288 with 0 Axes>"
     },
     "metadata": {}
    },
    {
     "output_type": "display_data",
     "data": {
      "text/plain": "<Figure size 864x288 with 0 Axes>"
     },
     "metadata": {}
    },
    {
     "output_type": "display_data",
     "data": {
      "text/plain": "<Figure size 864x288 with 0 Axes>"
     },
     "metadata": {}
    },
    {
     "output_type": "display_data",
     "data": {
      "text/plain": "<Figure size 864x288 with 0 Axes>"
     },
     "metadata": {}
    },
    {
     "output_type": "display_data",
     "data": {
      "text/plain": "<Figure size 864x288 with 0 Axes>"
     },
     "metadata": {}
    },
    {
     "output_type": "display_data",
     "data": {
      "text/plain": "<Figure size 864x288 with 0 Axes>"
     },
     "metadata": {}
    },
    {
     "output_type": "display_data",
     "data": {
      "text/plain": "<Figure size 864x288 with 0 Axes>"
     },
     "metadata": {}
    },
    {
     "output_type": "display_data",
     "data": {
      "text/plain": "<Figure size 864x288 with 0 Axes>"
     },
     "metadata": {}
    },
    {
     "output_type": "display_data",
     "data": {
      "text/plain": "<Figure size 864x288 with 0 Axes>"
     },
     "metadata": {}
    },
    {
     "output_type": "display_data",
     "data": {
      "text/plain": "<Figure size 864x288 with 0 Axes>"
     },
     "metadata": {}
    },
    {
     "output_type": "display_data",
     "data": {
      "text/plain": "<Figure size 864x288 with 0 Axes>"
     },
     "metadata": {}
    },
    {
     "output_type": "display_data",
     "data": {
      "text/plain": "<Figure size 864x288 with 0 Axes>"
     },
     "metadata": {}
    },
    {
     "output_type": "display_data",
     "data": {
      "text/plain": "<Figure size 864x288 with 0 Axes>"
     },
     "metadata": {}
    },
    {
     "output_type": "display_data",
     "data": {
      "text/plain": "<Figure size 864x288 with 0 Axes>"
     },
     "metadata": {}
    },
    {
     "output_type": "display_data",
     "data": {
      "text/plain": "<Figure size 864x288 with 0 Axes>"
     },
     "metadata": {}
    },
    {
     "output_type": "display_data",
     "data": {
      "text/plain": "<Figure size 864x288 with 0 Axes>"
     },
     "metadata": {}
    },
    {
     "output_type": "display_data",
     "data": {
      "text/plain": "<Figure size 864x288 with 0 Axes>"
     },
     "metadata": {}
    },
    {
     "output_type": "display_data",
     "data": {
      "text/plain": "<Figure size 864x288 with 0 Axes>"
     },
     "metadata": {}
    },
    {
     "output_type": "display_data",
     "data": {
      "text/plain": "<Figure size 864x288 with 0 Axes>"
     },
     "metadata": {}
    },
    {
     "output_type": "display_data",
     "data": {
      "text/plain": "<Figure size 864x288 with 0 Axes>"
     },
     "metadata": {}
    },
    {
     "output_type": "display_data",
     "data": {
      "text/plain": "<Figure size 864x288 with 0 Axes>"
     },
     "metadata": {}
    },
    {
     "output_type": "display_data",
     "data": {
      "text/plain": "<Figure size 864x288 with 0 Axes>"
     },
     "metadata": {}
    },
    {
     "output_type": "display_data",
     "data": {
      "text/plain": "<Figure size 864x288 with 0 Axes>"
     },
     "metadata": {}
    },
    {
     "output_type": "display_data",
     "data": {
      "text/plain": "<Figure size 864x288 with 0 Axes>"
     },
     "metadata": {}
    },
    {
     "output_type": "display_data",
     "data": {
      "text/plain": "<Figure size 864x288 with 0 Axes>"
     },
     "metadata": {}
    },
    {
     "output_type": "display_data",
     "data": {
      "text/plain": "<Figure size 864x288 with 0 Axes>"
     },
     "metadata": {}
    },
    {
     "output_type": "display_data",
     "data": {
      "text/plain": "<Figure size 864x288 with 0 Axes>"
     },
     "metadata": {}
    },
    {
     "output_type": "display_data",
     "data": {
      "text/plain": "<Figure size 864x288 with 0 Axes>"
     },
     "metadata": {}
    },
    {
     "output_type": "display_data",
     "data": {
      "text/plain": "<Figure size 864x288 with 0 Axes>"
     },
     "metadata": {}
    },
    {
     "output_type": "display_data",
     "data": {
      "text/plain": "<Figure size 864x288 with 0 Axes>"
     },
     "metadata": {}
    },
    {
     "output_type": "display_data",
     "data": {
      "text/plain": "<Figure size 864x288 with 0 Axes>"
     },
     "metadata": {}
    },
    {
     "output_type": "display_data",
     "data": {
      "text/plain": "<Figure size 864x288 with 0 Axes>"
     },
     "metadata": {}
    },
    {
     "output_type": "display_data",
     "data": {
      "text/plain": "<Figure size 864x288 with 0 Axes>"
     },
     "metadata": {}
    },
    {
     "output_type": "display_data",
     "data": {
      "text/plain": "<Figure size 864x288 with 0 Axes>"
     },
     "metadata": {}
    },
    {
     "output_type": "display_data",
     "data": {
      "text/plain": "<Figure size 864x288 with 0 Axes>"
     },
     "metadata": {}
    },
    {
     "output_type": "display_data",
     "data": {
      "text/plain": "<Figure size 864x288 with 0 Axes>"
     },
     "metadata": {}
    },
    {
     "output_type": "display_data",
     "data": {
      "text/plain": "<Figure size 864x288 with 0 Axes>"
     },
     "metadata": {}
    },
    {
     "output_type": "display_data",
     "data": {
      "text/plain": "<Figure size 864x288 with 0 Axes>"
     },
     "metadata": {}
    },
    {
     "output_type": "display_data",
     "data": {
      "text/plain": "<Figure size 864x288 with 0 Axes>"
     },
     "metadata": {}
    },
    {
     "output_type": "display_data",
     "data": {
      "text/plain": "<Figure size 864x288 with 0 Axes>"
     },
     "metadata": {}
    },
    {
     "output_type": "display_data",
     "data": {
      "text/plain": "<Figure size 864x288 with 0 Axes>"
     },
     "metadata": {}
    },
    {
     "output_type": "display_data",
     "data": {
      "text/plain": "<Figure size 864x288 with 0 Axes>"
     },
     "metadata": {}
    },
    {
     "output_type": "display_data",
     "data": {
      "text/plain": "<Figure size 864x288 with 0 Axes>"
     },
     "metadata": {}
    },
    {
     "output_type": "display_data",
     "data": {
      "text/plain": "<Figure size 864x288 with 0 Axes>"
     },
     "metadata": {}
    },
    {
     "output_type": "display_data",
     "data": {
      "text/plain": "<Figure size 864x288 with 0 Axes>"
     },
     "metadata": {}
    },
    {
     "output_type": "display_data",
     "data": {
      "text/plain": "<Figure size 864x288 with 0 Axes>"
     },
     "metadata": {}
    },
    {
     "output_type": "display_data",
     "data": {
      "text/plain": "<Figure size 864x288 with 0 Axes>"
     },
     "metadata": {}
    },
    {
     "output_type": "display_data",
     "data": {
      "text/plain": "<Figure size 864x288 with 0 Axes>"
     },
     "metadata": {}
    },
    {
     "output_type": "display_data",
     "data": {
      "text/plain": "<Figure size 864x288 with 0 Axes>"
     },
     "metadata": {}
    },
    {
     "output_type": "display_data",
     "data": {
      "text/plain": "<Figure size 864x288 with 0 Axes>"
     },
     "metadata": {}
    },
    {
     "output_type": "display_data",
     "data": {
      "text/plain": "<Figure size 864x288 with 0 Axes>"
     },
     "metadata": {}
    },
    {
     "output_type": "display_data",
     "data": {
      "text/plain": "<Figure size 864x288 with 0 Axes>"
     },
     "metadata": {}
    },
    {
     "output_type": "display_data",
     "data": {
      "text/plain": "<Figure size 864x288 with 0 Axes>"
     },
     "metadata": {}
    },
    {
     "output_type": "display_data",
     "data": {
      "text/plain": "<Figure size 864x288 with 0 Axes>"
     },
     "metadata": {}
    },
    {
     "output_type": "display_data",
     "data": {
      "text/plain": "<Figure size 864x288 with 0 Axes>"
     },
     "metadata": {}
    },
    {
     "output_type": "display_data",
     "data": {
      "text/plain": "<Figure size 864x288 with 0 Axes>"
     },
     "metadata": {}
    },
    {
     "output_type": "display_data",
     "data": {
      "text/plain": "<Figure size 864x288 with 0 Axes>"
     },
     "metadata": {}
    },
    {
     "output_type": "display_data",
     "data": {
      "text/plain": "<Figure size 864x288 with 0 Axes>"
     },
     "metadata": {}
    },
    {
     "output_type": "display_data",
     "data": {
      "text/plain": "<Figure size 864x288 with 0 Axes>"
     },
     "metadata": {}
    },
    {
     "output_type": "display_data",
     "data": {
      "text/plain": "<Figure size 864x288 with 0 Axes>"
     },
     "metadata": {}
    },
    {
     "output_type": "display_data",
     "data": {
      "text/plain": "<Figure size 864x288 with 0 Axes>"
     },
     "metadata": {}
    },
    {
     "output_type": "display_data",
     "data": {
      "text/plain": "<Figure size 864x288 with 0 Axes>"
     },
     "metadata": {}
    },
    {
     "output_type": "display_data",
     "data": {
      "text/plain": "<Figure size 864x288 with 0 Axes>"
     },
     "metadata": {}
    },
    {
     "output_type": "display_data",
     "data": {
      "text/plain": "<Figure size 864x288 with 0 Axes>"
     },
     "metadata": {}
    },
    {
     "output_type": "display_data",
     "data": {
      "text/plain": "<Figure size 864x288 with 0 Axes>"
     },
     "metadata": {}
    },
    {
     "output_type": "display_data",
     "data": {
      "text/plain": "<Figure size 864x288 with 0 Axes>"
     },
     "metadata": {}
    },
    {
     "output_type": "display_data",
     "data": {
      "text/plain": "<Figure size 864x288 with 0 Axes>"
     },
     "metadata": {}
    },
    {
     "output_type": "display_data",
     "data": {
      "text/plain": "<Figure size 864x288 with 0 Axes>"
     },
     "metadata": {}
    },
    {
     "output_type": "display_data",
     "data": {
      "text/plain": "<Figure size 864x288 with 0 Axes>"
     },
     "metadata": {}
    },
    {
     "output_type": "display_data",
     "data": {
      "text/plain": "<Figure size 864x288 with 0 Axes>"
     },
     "metadata": {}
    },
    {
     "output_type": "display_data",
     "data": {
      "text/plain": "<Figure size 864x288 with 0 Axes>"
     },
     "metadata": {}
    },
    {
     "output_type": "display_data",
     "data": {
      "text/plain": "<Figure size 864x288 with 0 Axes>"
     },
     "metadata": {}
    },
    {
     "output_type": "display_data",
     "data": {
      "text/plain": "<Figure size 864x288 with 0 Axes>"
     },
     "metadata": {}
    },
    {
     "output_type": "display_data",
     "data": {
      "text/plain": "<Figure size 864x288 with 0 Axes>"
     },
     "metadata": {}
    },
    {
     "output_type": "display_data",
     "data": {
      "text/plain": "<Figure size 864x288 with 0 Axes>"
     },
     "metadata": {}
    },
    {
     "output_type": "display_data",
     "data": {
      "text/plain": "<Figure size 864x288 with 0 Axes>"
     },
     "metadata": {}
    },
    {
     "output_type": "display_data",
     "data": {
      "text/plain": "<Figure size 864x288 with 0 Axes>"
     },
     "metadata": {}
    },
    {
     "output_type": "display_data",
     "data": {
      "text/plain": "<Figure size 864x288 with 0 Axes>"
     },
     "metadata": {}
    },
    {
     "output_type": "display_data",
     "data": {
      "text/plain": "<Figure size 864x288 with 0 Axes>"
     },
     "metadata": {}
    },
    {
     "output_type": "display_data",
     "data": {
      "text/plain": "<Figure size 864x288 with 0 Axes>"
     },
     "metadata": {}
    },
    {
     "output_type": "display_data",
     "data": {
      "text/plain": "<Figure size 864x288 with 0 Axes>"
     },
     "metadata": {}
    },
    {
     "output_type": "display_data",
     "data": {
      "text/plain": "<Figure size 864x288 with 0 Axes>"
     },
     "metadata": {}
    },
    {
     "output_type": "display_data",
     "data": {
      "text/plain": "<Figure size 864x288 with 0 Axes>"
     },
     "metadata": {}
    },
    {
     "output_type": "display_data",
     "data": {
      "text/plain": "<Figure size 864x288 with 0 Axes>"
     },
     "metadata": {}
    },
    {
     "output_type": "display_data",
     "data": {
      "text/plain": "<Figure size 864x288 with 0 Axes>"
     },
     "metadata": {}
    },
    {
     "output_type": "display_data",
     "data": {
      "text/plain": "<Figure size 864x288 with 0 Axes>"
     },
     "metadata": {}
    },
    {
     "output_type": "display_data",
     "data": {
      "text/plain": "<Figure size 864x288 with 0 Axes>"
     },
     "metadata": {}
    },
    {
     "output_type": "display_data",
     "data": {
      "text/plain": "<Figure size 864x288 with 0 Axes>"
     },
     "metadata": {}
    },
    {
     "output_type": "display_data",
     "data": {
      "text/plain": "<Figure size 864x288 with 0 Axes>"
     },
     "metadata": {}
    },
    {
     "output_type": "display_data",
     "data": {
      "text/plain": "<Figure size 864x288 with 0 Axes>"
     },
     "metadata": {}
    },
    {
     "output_type": "display_data",
     "data": {
      "text/plain": "<Figure size 864x288 with 0 Axes>"
     },
     "metadata": {}
    },
    {
     "output_type": "display_data",
     "data": {
      "text/plain": "<Figure size 864x288 with 0 Axes>"
     },
     "metadata": {}
    },
    {
     "output_type": "display_data",
     "data": {
      "text/plain": "<Figure size 864x288 with 0 Axes>"
     },
     "metadata": {}
    },
    {
     "output_type": "display_data",
     "data": {
      "text/plain": "<Figure size 864x288 with 0 Axes>"
     },
     "metadata": {}
    },
    {
     "output_type": "display_data",
     "data": {
      "text/plain": "<Figure size 864x288 with 0 Axes>"
     },
     "metadata": {}
    },
    {
     "output_type": "display_data",
     "data": {
      "text/plain": "<Figure size 864x288 with 0 Axes>"
     },
     "metadata": {}
    },
    {
     "output_type": "display_data",
     "data": {
      "text/plain": "<Figure size 864x288 with 0 Axes>"
     },
     "metadata": {}
    },
    {
     "output_type": "display_data",
     "data": {
      "text/plain": "<Figure size 864x288 with 0 Axes>"
     },
     "metadata": {}
    },
    {
     "output_type": "display_data",
     "data": {
      "text/plain": "<Figure size 864x288 with 0 Axes>"
     },
     "metadata": {}
    },
    {
     "output_type": "display_data",
     "data": {
      "text/plain": "<Figure size 864x288 with 0 Axes>"
     },
     "metadata": {}
    },
    {
     "output_type": "display_data",
     "data": {
      "text/plain": "<Figure size 864x288 with 0 Axes>"
     },
     "metadata": {}
    },
    {
     "output_type": "display_data",
     "data": {
      "text/plain": "<Figure size 864x288 with 0 Axes>"
     },
     "metadata": {}
    },
    {
     "output_type": "display_data",
     "data": {
      "text/plain": "<Figure size 864x288 with 0 Axes>"
     },
     "metadata": {}
    },
    {
     "output_type": "display_data",
     "data": {
      "text/plain": "<Figure size 864x288 with 0 Axes>"
     },
     "metadata": {}
    },
    {
     "output_type": "display_data",
     "data": {
      "text/plain": "<Figure size 864x288 with 0 Axes>"
     },
     "metadata": {}
    },
    {
     "output_type": "display_data",
     "data": {
      "text/plain": "<Figure size 864x288 with 0 Axes>"
     },
     "metadata": {}
    },
    {
     "output_type": "display_data",
     "data": {
      "text/plain": "<Figure size 864x288 with 0 Axes>"
     },
     "metadata": {}
    },
    {
     "output_type": "display_data",
     "data": {
      "text/plain": "<Figure size 864x288 with 0 Axes>"
     },
     "metadata": {}
    },
    {
     "output_type": "display_data",
     "data": {
      "text/plain": "<Figure size 864x288 with 0 Axes>"
     },
     "metadata": {}
    },
    {
     "output_type": "display_data",
     "data": {
      "text/plain": "<Figure size 864x288 with 0 Axes>"
     },
     "metadata": {}
    },
    {
     "output_type": "display_data",
     "data": {
      "text/plain": "<Figure size 864x288 with 0 Axes>"
     },
     "metadata": {}
    },
    {
     "output_type": "display_data",
     "data": {
      "text/plain": "<Figure size 864x288 with 0 Axes>"
     },
     "metadata": {}
    },
    {
     "output_type": "display_data",
     "data": {
      "text/plain": "<Figure size 864x288 with 0 Axes>"
     },
     "metadata": {}
    },
    {
     "output_type": "display_data",
     "data": {
      "text/plain": "<Figure size 864x288 with 0 Axes>"
     },
     "metadata": {}
    },
    {
     "output_type": "display_data",
     "data": {
      "text/plain": "<Figure size 864x288 with 0 Axes>"
     },
     "metadata": {}
    },
    {
     "output_type": "display_data",
     "data": {
      "text/plain": "<Figure size 864x288 with 0 Axes>"
     },
     "metadata": {}
    },
    {
     "output_type": "display_data",
     "data": {
      "text/plain": "<Figure size 864x288 with 0 Axes>"
     },
     "metadata": {}
    },
    {
     "output_type": "display_data",
     "data": {
      "text/plain": "<Figure size 864x288 with 0 Axes>"
     },
     "metadata": {}
    },
    {
     "output_type": "display_data",
     "data": {
      "text/plain": "<Figure size 864x288 with 0 Axes>"
     },
     "metadata": {}
    },
    {
     "output_type": "display_data",
     "data": {
      "text/plain": "<Figure size 864x288 with 0 Axes>"
     },
     "metadata": {}
    },
    {
     "output_type": "display_data",
     "data": {
      "text/plain": "<Figure size 864x288 with 0 Axes>"
     },
     "metadata": {}
    },
    {
     "output_type": "display_data",
     "data": {
      "text/plain": "<Figure size 864x288 with 0 Axes>"
     },
     "metadata": {}
    },
    {
     "output_type": "display_data",
     "data": {
      "text/plain": "<Figure size 864x288 with 0 Axes>"
     },
     "metadata": {}
    },
    {
     "output_type": "display_data",
     "data": {
      "text/plain": "<Figure size 864x288 with 0 Axes>"
     },
     "metadata": {}
    },
    {
     "output_type": "display_data",
     "data": {
      "text/plain": "<Figure size 864x288 with 0 Axes>"
     },
     "metadata": {}
    },
    {
     "output_type": "display_data",
     "data": {
      "text/plain": "<Figure size 864x288 with 0 Axes>"
     },
     "metadata": {}
    },
    {
     "output_type": "display_data",
     "data": {
      "text/plain": "<Figure size 864x288 with 0 Axes>"
     },
     "metadata": {}
    },
    {
     "output_type": "display_data",
     "data": {
      "text/plain": "<Figure size 864x288 with 0 Axes>"
     },
     "metadata": {}
    },
    {
     "output_type": "display_data",
     "data": {
      "text/plain": "<Figure size 864x288 with 0 Axes>"
     },
     "metadata": {}
    },
    {
     "output_type": "display_data",
     "data": {
      "text/plain": "<Figure size 864x288 with 0 Axes>"
     },
     "metadata": {}
    },
    {
     "output_type": "display_data",
     "data": {
      "text/plain": "<Figure size 864x288 with 0 Axes>"
     },
     "metadata": {}
    },
    {
     "output_type": "display_data",
     "data": {
      "text/plain": "<Figure size 864x288 with 0 Axes>"
     },
     "metadata": {}
    },
    {
     "output_type": "display_data",
     "data": {
      "text/plain": "<Figure size 864x288 with 0 Axes>"
     },
     "metadata": {}
    },
    {
     "output_type": "display_data",
     "data": {
      "text/plain": "<Figure size 864x288 with 0 Axes>"
     },
     "metadata": {}
    },
    {
     "output_type": "display_data",
     "data": {
      "text/plain": "<Figure size 864x288 with 0 Axes>"
     },
     "metadata": {}
    },
    {
     "output_type": "display_data",
     "data": {
      "text/plain": "<Figure size 864x288 with 0 Axes>"
     },
     "metadata": {}
    },
    {
     "output_type": "display_data",
     "data": {
      "text/plain": "<Figure size 864x288 with 0 Axes>"
     },
     "metadata": {}
    },
    {
     "output_type": "display_data",
     "data": {
      "text/plain": "<Figure size 864x288 with 0 Axes>"
     },
     "metadata": {}
    },
    {
     "output_type": "display_data",
     "data": {
      "text/plain": "<Figure size 864x288 with 0 Axes>"
     },
     "metadata": {}
    },
    {
     "output_type": "display_data",
     "data": {
      "text/plain": "<Figure size 864x288 with 0 Axes>"
     },
     "metadata": {}
    },
    {
     "output_type": "display_data",
     "data": {
      "text/plain": "<Figure size 864x288 with 0 Axes>"
     },
     "metadata": {}
    },
    {
     "output_type": "display_data",
     "data": {
      "text/plain": "<Figure size 864x288 with 0 Axes>"
     },
     "metadata": {}
    },
    {
     "output_type": "display_data",
     "data": {
      "text/plain": "<Figure size 864x288 with 0 Axes>"
     },
     "metadata": {}
    },
    {
     "output_type": "display_data",
     "data": {
      "text/plain": "<Figure size 864x288 with 0 Axes>"
     },
     "metadata": {}
    },
    {
     "output_type": "display_data",
     "data": {
      "text/plain": "<Figure size 864x288 with 0 Axes>"
     },
     "metadata": {}
    },
    {
     "output_type": "display_data",
     "data": {
      "text/plain": "<Figure size 864x288 with 0 Axes>"
     },
     "metadata": {}
    },
    {
     "output_type": "display_data",
     "data": {
      "text/plain": "<Figure size 864x288 with 0 Axes>"
     },
     "metadata": {}
    },
    {
     "output_type": "display_data",
     "data": {
      "text/plain": "<Figure size 864x288 with 0 Axes>"
     },
     "metadata": {}
    },
    {
     "output_type": "display_data",
     "data": {
      "text/plain": "<Figure size 864x288 with 0 Axes>"
     },
     "metadata": {}
    },
    {
     "output_type": "display_data",
     "data": {
      "text/plain": "<Figure size 864x288 with 0 Axes>"
     },
     "metadata": {}
    },
    {
     "output_type": "display_data",
     "data": {
      "text/plain": "<Figure size 864x288 with 0 Axes>"
     },
     "metadata": {}
    },
    {
     "output_type": "display_data",
     "data": {
      "text/plain": "<Figure size 864x288 with 0 Axes>"
     },
     "metadata": {}
    },
    {
     "output_type": "display_data",
     "data": {
      "text/plain": "<Figure size 864x288 with 0 Axes>"
     },
     "metadata": {}
    },
    {
     "output_type": "display_data",
     "data": {
      "text/plain": "<Figure size 864x288 with 0 Axes>"
     },
     "metadata": {}
    },
    {
     "output_type": "display_data",
     "data": {
      "text/plain": "<Figure size 864x288 with 0 Axes>"
     },
     "metadata": {}
    },
    {
     "output_type": "display_data",
     "data": {
      "text/plain": "<Figure size 864x288 with 0 Axes>"
     },
     "metadata": {}
    },
    {
     "output_type": "display_data",
     "data": {
      "text/plain": "<Figure size 864x288 with 0 Axes>"
     },
     "metadata": {}
    },
    {
     "output_type": "display_data",
     "data": {
      "text/plain": "<Figure size 864x288 with 0 Axes>"
     },
     "metadata": {}
    },
    {
     "output_type": "display_data",
     "data": {
      "text/plain": "<Figure size 864x288 with 0 Axes>"
     },
     "metadata": {}
    },
    {
     "output_type": "display_data",
     "data": {
      "text/plain": "<Figure size 864x288 with 0 Axes>"
     },
     "metadata": {}
    },
    {
     "output_type": "display_data",
     "data": {
      "text/plain": "<Figure size 864x288 with 0 Axes>"
     },
     "metadata": {}
    },
    {
     "output_type": "display_data",
     "data": {
      "text/plain": "<Figure size 864x288 with 0 Axes>"
     },
     "metadata": {}
    },
    {
     "output_type": "display_data",
     "data": {
      "text/plain": "<Figure size 864x288 with 0 Axes>"
     },
     "metadata": {}
    },
    {
     "output_type": "display_data",
     "data": {
      "text/plain": "<Figure size 864x288 with 0 Axes>"
     },
     "metadata": {}
    },
    {
     "output_type": "display_data",
     "data": {
      "text/plain": "<Figure size 864x288 with 0 Axes>"
     },
     "metadata": {}
    },
    {
     "output_type": "display_data",
     "data": {
      "text/plain": "<Figure size 864x288 with 0 Axes>"
     },
     "metadata": {}
    },
    {
     "output_type": "display_data",
     "data": {
      "text/plain": "<Figure size 864x288 with 0 Axes>"
     },
     "metadata": {}
    },
    {
     "output_type": "display_data",
     "data": {
      "text/plain": "<Figure size 864x288 with 0 Axes>"
     },
     "metadata": {}
    },
    {
     "output_type": "display_data",
     "data": {
      "text/plain": "<Figure size 864x288 with 0 Axes>"
     },
     "metadata": {}
    },
    {
     "output_type": "display_data",
     "data": {
      "text/plain": "<Figure size 864x288 with 0 Axes>"
     },
     "metadata": {}
    },
    {
     "output_type": "display_data",
     "data": {
      "text/plain": "<Figure size 864x288 with 0 Axes>"
     },
     "metadata": {}
    },
    {
     "output_type": "display_data",
     "data": {
      "text/plain": "<Figure size 864x288 with 0 Axes>"
     },
     "metadata": {}
    },
    {
     "output_type": "display_data",
     "data": {
      "text/plain": "<Figure size 864x288 with 0 Axes>"
     },
     "metadata": {}
    },
    {
     "output_type": "display_data",
     "data": {
      "text/plain": "<Figure size 864x288 with 0 Axes>"
     },
     "metadata": {}
    },
    {
     "output_type": "display_data",
     "data": {
      "text/plain": "<Figure size 864x288 with 0 Axes>"
     },
     "metadata": {}
    },
    {
     "output_type": "display_data",
     "data": {
      "text/plain": "<Figure size 864x288 with 0 Axes>"
     },
     "metadata": {}
    },
    {
     "output_type": "display_data",
     "data": {
      "text/plain": "<Figure size 864x288 with 0 Axes>"
     },
     "metadata": {}
    },
    {
     "output_type": "display_data",
     "data": {
      "text/plain": "<Figure size 864x288 with 0 Axes>"
     },
     "metadata": {}
    },
    {
     "output_type": "display_data",
     "data": {
      "text/plain": "<Figure size 864x288 with 0 Axes>"
     },
     "metadata": {}
    },
    {
     "output_type": "display_data",
     "data": {
      "text/plain": "<Figure size 864x288 with 0 Axes>"
     },
     "metadata": {}
    },
    {
     "output_type": "display_data",
     "data": {
      "text/plain": "<Figure size 864x288 with 0 Axes>"
     },
     "metadata": {}
    },
    {
     "output_type": "display_data",
     "data": {
      "text/plain": "<Figure size 864x288 with 0 Axes>"
     },
     "metadata": {}
    },
    {
     "output_type": "display_data",
     "data": {
      "text/plain": "<Figure size 864x288 with 0 Axes>"
     },
     "metadata": {}
    },
    {
     "output_type": "display_data",
     "data": {
      "text/plain": "<Figure size 864x288 with 0 Axes>"
     },
     "metadata": {}
    },
    {
     "output_type": "display_data",
     "data": {
      "text/plain": "<Figure size 864x288 with 0 Axes>"
     },
     "metadata": {}
    },
    {
     "output_type": "display_data",
     "data": {
      "text/plain": "<Figure size 864x288 with 0 Axes>"
     },
     "metadata": {}
    },
    {
     "output_type": "display_data",
     "data": {
      "text/plain": "<Figure size 864x288 with 0 Axes>"
     },
     "metadata": {}
    },
    {
     "output_type": "display_data",
     "data": {
      "text/plain": "<Figure size 864x288 with 0 Axes>"
     },
     "metadata": {}
    },
    {
     "output_type": "display_data",
     "data": {
      "text/plain": "<Figure size 864x288 with 0 Axes>"
     },
     "metadata": {}
    },
    {
     "output_type": "display_data",
     "data": {
      "text/plain": "<Figure size 864x288 with 0 Axes>"
     },
     "metadata": {}
    },
    {
     "output_type": "display_data",
     "data": {
      "text/plain": "<Figure size 864x288 with 0 Axes>"
     },
     "metadata": {}
    },
    {
     "output_type": "display_data",
     "data": {
      "text/plain": "<Figure size 864x288 with 0 Axes>"
     },
     "metadata": {}
    },
    {
     "output_type": "display_data",
     "data": {
      "text/plain": "<Figure size 864x288 with 0 Axes>"
     },
     "metadata": {}
    },
    {
     "output_type": "display_data",
     "data": {
      "text/plain": "<Figure size 864x288 with 0 Axes>"
     },
     "metadata": {}
    },
    {
     "output_type": "display_data",
     "data": {
      "text/plain": "<Figure size 864x288 with 0 Axes>"
     },
     "metadata": {}
    },
    {
     "output_type": "display_data",
     "data": {
      "text/plain": "<Figure size 864x288 with 0 Axes>"
     },
     "metadata": {}
    },
    {
     "output_type": "display_data",
     "data": {
      "text/plain": "<Figure size 864x288 with 0 Axes>"
     },
     "metadata": {}
    },
    {
     "output_type": "display_data",
     "data": {
      "text/plain": "<Figure size 864x288 with 0 Axes>"
     },
     "metadata": {}
    },
    {
     "output_type": "display_data",
     "data": {
      "text/plain": "<Figure size 864x288 with 0 Axes>"
     },
     "metadata": {}
    },
    {
     "output_type": "display_data",
     "data": {
      "text/plain": "<Figure size 864x288 with 0 Axes>"
     },
     "metadata": {}
    },
    {
     "output_type": "display_data",
     "data": {
      "text/plain": "<Figure size 864x288 with 0 Axes>"
     },
     "metadata": {}
    },
    {
     "output_type": "display_data",
     "data": {
      "text/plain": "<Figure size 864x288 with 0 Axes>"
     },
     "metadata": {}
    },
    {
     "output_type": "display_data",
     "data": {
      "text/plain": "<Figure size 864x288 with 0 Axes>"
     },
     "metadata": {}
    },
    {
     "output_type": "display_data",
     "data": {
      "text/plain": "<Figure size 864x288 with 0 Axes>"
     },
     "metadata": {}
    },
    {
     "output_type": "display_data",
     "data": {
      "text/plain": "<Figure size 864x288 with 0 Axes>"
     },
     "metadata": {}
    },
    {
     "output_type": "display_data",
     "data": {
      "text/plain": "<Figure size 864x288 with 0 Axes>"
     },
     "metadata": {}
    },
    {
     "output_type": "display_data",
     "data": {
      "text/plain": "<Figure size 864x288 with 0 Axes>"
     },
     "metadata": {}
    },
    {
     "output_type": "display_data",
     "data": {
      "text/plain": "<Figure size 864x288 with 0 Axes>"
     },
     "metadata": {}
    },
    {
     "output_type": "display_data",
     "data": {
      "text/plain": "<Figure size 864x288 with 0 Axes>"
     },
     "metadata": {}
    },
    {
     "output_type": "display_data",
     "data": {
      "text/plain": "<Figure size 864x288 with 0 Axes>"
     },
     "metadata": {}
    },
    {
     "output_type": "display_data",
     "data": {
      "text/plain": "<Figure size 864x288 with 0 Axes>"
     },
     "metadata": {}
    },
    {
     "output_type": "display_data",
     "data": {
      "text/plain": "<Figure size 864x288 with 0 Axes>"
     },
     "metadata": {}
    },
    {
     "output_type": "display_data",
     "data": {
      "text/plain": "<Figure size 864x288 with 0 Axes>"
     },
     "metadata": {}
    },
    {
     "output_type": "display_data",
     "data": {
      "text/plain": "<Figure size 864x288 with 0 Axes>"
     },
     "metadata": {}
    },
    {
     "output_type": "display_data",
     "data": {
      "text/plain": "<Figure size 864x288 with 0 Axes>"
     },
     "metadata": {}
    },
    {
     "output_type": "display_data",
     "data": {
      "text/plain": "<Figure size 864x288 with 0 Axes>"
     },
     "metadata": {}
    },
    {
     "output_type": "display_data",
     "data": {
      "text/plain": "<Figure size 864x288 with 0 Axes>"
     },
     "metadata": {}
    },
    {
     "output_type": "display_data",
     "data": {
      "text/plain": "<Figure size 864x288 with 0 Axes>"
     },
     "metadata": {}
    },
    {
     "output_type": "display_data",
     "data": {
      "text/plain": "<Figure size 864x288 with 0 Axes>"
     },
     "metadata": {}
    },
    {
     "output_type": "display_data",
     "data": {
      "text/plain": "<Figure size 864x288 with 0 Axes>"
     },
     "metadata": {}
    },
    {
     "output_type": "display_data",
     "data": {
      "text/plain": "<Figure size 864x288 with 0 Axes>"
     },
     "metadata": {}
    },
    {
     "output_type": "display_data",
     "data": {
      "text/plain": "<Figure size 864x288 with 0 Axes>"
     },
     "metadata": {}
    },
    {
     "output_type": "display_data",
     "data": {
      "text/plain": "<Figure size 864x288 with 0 Axes>"
     },
     "metadata": {}
    },
    {
     "output_type": "display_data",
     "data": {
      "text/plain": "<Figure size 864x288 with 0 Axes>"
     },
     "metadata": {}
    },
    {
     "output_type": "display_data",
     "data": {
      "text/plain": "<Figure size 864x288 with 0 Axes>"
     },
     "metadata": {}
    }
   ],
   "source": [
    "import tensorflow as tf\n",
    "tf.random.set_seed(0)\n",
    "import numpy as np\n",
    "import matplotlib.pyplot as plt\n",
    "from nn.model_base import edl_classifier4psedo_data, EDLModelBase\n",
    "from nn.losses import EDLLoss\n",
    "import os, sys\n",
    "os.environ['CUDA_VISIBLE_DEVICES'] = '-1'\n",
    "\n",
    "# parameterの設定\n",
    "epochs = 300\n",
    "time_hparam = 100\n",
    "HIDDEN_DIM =  32 # TODO : ここを変える(3, 8, 16, 32)\n",
    "\n",
    "# 仮データの作成\n",
    "def psedo_data(row, col, x_bias, y_bias):\n",
    "    # 極座標で考える\n",
    "    row, col = (100, 2)\n",
    "    r_class0 = tf.random.uniform(shape=(row,), minval=0, maxval=0.5)\n",
    "    theta_class0 = tf.random.uniform(shape=(row,), minval=0, maxval=np.pi*2)\n",
    "    r_class1 = tf.random.uniform(shape=(row,), minval=0.5, maxval=1)\n",
    "    theta_class1 = tf.random.uniform(shape=(row,), minval=0, maxval=np.pi*2)\n",
    "    input_class0 = (x_bias+r_class0*np.cos(theta_class0), y_bias+r_class0*np.sin(theta_class0))\n",
    "    input_class1 = (x_bias+r_class1*np.cos(theta_class1), y_bias+r_class1*np.sin(theta_class1))\n",
    "    x_train = tf.concat([input_class0, input_class1], axis=1)\n",
    "    x_train = tf.transpose(x_train)\n",
    "    y_train_0 = [0 for _ in range(row)]\n",
    "    y_train_1 = [1 for _ in range(row)]\n",
    "    y_train = y_train_0 + y_train_1\n",
    "    x_test = None\n",
    "    y_test = None\n",
    "    return (x_train, x_test), (y_train, y_test)\n",
    "\n",
    "\n",
    "(x_train, x_test), (y_train, y_test) = psedo_data(row=100, col=2, x_bias=0, y_bias=0)\n",
    "\n",
    "# カスタムトレーニング\n",
    "inputs = tf.keras.Input(shape=(2,))\n",
    "outputs = edl_classifier4psedo_data(x=inputs, use_bias=True, hidden_dim=HIDDEN_DIM)\n",
    "model = tf.keras.Model(inputs=inputs, outputs=outputs)\n",
    "# 最適化関数の設定\n",
    "optimizer = tf.keras.optimizers.Adam()\n",
    "# メトリクスの作成\n",
    "# true side : カテゴリカルな状態，pred side : クラスの次元数（ソフトマックスをかける前)\n",
    "# CategoricalAccuracy : one-hotに対して計算してくれる\n",
    "train_acc_metric = tf.keras.metrics.CategoricalAccuracy()\n",
    "train_dataset = tf.data.Dataset.from_tensor_slices((x_train, y_train))\n",
    "train_dataset = train_dataset.shuffle(buffer_size=x_train.shape[0]).batch(batch_size=32)\n",
    "\n",
    "# 学習\n",
    "for epoch in range(epochs):\n",
    "    loss_fn = EDLLoss(K=2, annealing=min(1.0, epoch/epochs*time_hparam))\n",
    "    print(f\"エポック:{epoch}\")\n",
    "    # エポック内のバッチサイズごとのループ\n",
    "    for step, (x_batch_train, y_batch_train) in enumerate(train_dataset):\n",
    "        # 勾配を計算\n",
    "        with tf.GradientTape() as tape:\n",
    "            # dataset.shuffleを入れることによってバッチサイズを設定できる\n",
    "            evidence = model(x_batch_train, training=True)\n",
    "            alpha = evidence+1\n",
    "            y_pred = alpha/tf.reduce_sum(alpha, axis=1, keepdims=True)\n",
    "            # NOTE : ここでone-hotにする\n",
    "            y_batch_train = tf.one_hot(y_batch_train, depth=2)\n",
    "            loss_value = loss_fn.call(y_batch_train, alpha)\n",
    "            \n",
    "        grads = tape.gradient(loss_value, model.trainable_weights)\n",
    "        optimizer.apply_gradients(zip(grads, model.trainable_weights))\n",
    "        train_acc_metric.update_state(y_batch_train, y_pred)\n",
    "    # 画像の作成\n",
    "    make_image(x_train=x_train, iter=epoch, time_hparam=time_hparam, hidden_dim=HIDDEN_DIM)\n",
    "    # エポックの終わりにメトリクスを表示する\n",
    "    train_acc = train_acc_metric.result()\n",
    "    print(f\"訓練一致率：{train_acc:.2%}\")\n",
    "    # エポックの終わりに訓練メトリクスを初期化\n",
    "    train_acc_metric.reset_states()"
   ]
  },
  {
   "cell_type": "code",
   "execution_count": 3,
   "metadata": {},
   "outputs": [],
   "source": [
    "# gitの作成\n",
    "from PIL import Image\n",
    "import glob\n",
    "\n",
    "saved_path = os.path.join(os.environ[\"sleep\"], \"figures\", \"check_uncertainty\", f\"{time_hparam}\", f\"{HIDDEN_DIM}\")\n",
    "files = glob.glob(os.path.join(saved_path, \"*.png\"))\n",
    "images = list(map(lambda file: Image.open(file), files))\n",
    "images[0].save(os.path.join(saved_path, 'out.gif'), save_all=True, append_images=images[1:], loop=0)"
   ]
  },
  {
   "cell_type": "code",
   "execution_count": null,
   "metadata": {},
   "outputs": [],
   "source": []
  }
 ]
}